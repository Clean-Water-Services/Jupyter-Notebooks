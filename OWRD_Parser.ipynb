{
 "cells": [
  {
   "cell_type": "markdown",
   "metadata": {},
   "source": [
    "## OWRD Parser"
   ]
  },
  {
   "cell_type": "code",
   "execution_count": 1,
   "metadata": {},
   "outputs": [],
   "source": [
    "import pandas as pd\n",
    "import requests\n",
    "from datetime import datetime, timedelta"
   ]
  },
  {
   "cell_type": "markdown",
   "metadata": {},
   "source": [
    "### Historical Data Parser for OWRD instantaneous stage data for Tualatin River at Tualatin Park"
   ]
  },
  {
   "cell_type": "code",
   "execution_count": 13,
   "metadata": {},
   "outputs": [],
   "source": [
    "# Define URL for downloading the historical data\n",
    "#hist_url = \"https://apps.wrd.state.or.us/apps/sw/hydro_near_real_time/hydro_download.aspx?station_nbr=14206956&start_date=5/10/2023%2012:00:00%20AM&end_date=12/1/2023%2012:00:00%20AM&dataset=Instantaneous_Stage&format=tsv\"\n",
    "\n",
    "# Send a GET request to the URL to get the data\n",
    "#response = requests.get(hist_url)"
   ]
  },
  {
   "cell_type": "code",
   "execution_count": 14,
   "metadata": {},
   "outputs": [
    {
     "name": "stdout",
     "output_type": "stream",
     "text": [
      "Historical data downloaded and saved as CSV.\n"
     ]
    }
   ],
   "source": [
    "# Check if the request was successful\n",
    "#if response.status_code == 200:\n",
    "    # Parse the tab-separated data into a DataFrame\n",
    "    #data = pd.read_csv(hist_url, sep='\\t')\n",
    "    # Save the data into a dataframe\n",
    "    #df = pd.DataFrame(data)\n",
    "\n",
    "    # Drop columns that are not needed\n",
    "    #df.drop(['station_nbr','published_status','published_status','download_date'],axis=1,inplace=True)\n",
    "\n",
    "    # Define path for saving csv file\n",
    "    #csv_file_path = \"U:/Research_and_Innovation/_ModellingGroupProjects/ThomasDairy_Continuous Data/ThomasDairy_Data/Water Surface Elevation/OWRD_TRatTualatinPark.csv\"\n",
    "\n",
    "    # Save the data as a CSV file\n",
    "    #df.to_csv(csv_file_path, index=False)\n",
    "    #print(\"Historical data downloaded and saved as CSV.\")\n",
    "\n",
    "#else:\n",
    "    #print(\"Failed to retrieve data from the URL.\")"
   ]
  },
  {
   "cell_type": "markdown",
   "metadata": {},
   "source": [
    "### Historical Data Parser for OWRD instantaneous stage data for Fanno Creek at Durham"
   ]
  },
  {
   "cell_type": "markdown",
   "metadata": {},
   "source": [
    "### Update CSV File with New Data"
   ]
  },
  {
   "cell_type": "code",
   "execution_count": 2,
   "metadata": {},
   "outputs": [],
   "source": [
    "# Define URL for downloading the historical data\n",
    "#hist_url = \"https://apps.wrd.state.or.us/apps/sw/hydro_near_real_time/hydro_download.aspx?station_nbr=14206950&start_date=5/10/2023%2012:00:00%20AM&end_date=12/1/2023%2012:00:00%20AM&dataset=Instantaneous_Stage&format=tsv\"\n",
    "\n",
    "# Send a GET request to the URL to get the data\n",
    "#response = requests.get(hist_url)"
   ]
  },
  {
   "cell_type": "code",
   "execution_count": 3,
   "metadata": {},
   "outputs": [
    {
     "name": "stdout",
     "output_type": "stream",
     "text": [
      "Historical data downloaded and saved as CSV.\n"
     ]
    }
   ],
   "source": [
    "# Check if the request was successful\n",
    "#if response.status_code == 200:\n",
    "    # Parse the tab-separated data into a DataFrame\n",
    "    #data = pd.read_csv(hist_url, sep='\\t')\n",
    "    # Save the data into a dataframe\n",
    "    #df = pd.DataFrame(data)\n",
    "\n",
    "    # Drop columns that are not needed\n",
    "    #df.drop(['station_nbr','published_status','published_status','download_date'],axis=1,inplace=True)\n",
    "\n",
    "    # Define path for saving csv file\n",
    "    #csv_file_path = \"U:/Research_and_Innovation/_ModellingGroupProjects/ThomasDairy_Continuous Data/ThomasDairy_Data/Water Surface Elevation/OWRD_FannoCreek.csv\"\n",
    "\n",
    "    # Save the data as a CSV file\n",
    "    #df.to_csv(csv_file_path, index=False)\n",
    "    #print(\"Historical data downloaded and saved as CSV.\")\n",
    "\n",
    "#else:\n",
    "    #print(\"Failed to retrieve data from the URL.\")"
   ]
  },
  {
   "cell_type": "markdown",
   "metadata": {},
   "source": [
    "### Update Spreadsheet with New Data - Tualatin Park"
   ]
  },
  {
   "cell_type": "code",
   "execution_count": null,
   "metadata": {},
   "outputs": [],
   "source": [
    "def update_csv_with_new_data_TualatinPark(existing_csv_path, end_date_str):\n",
    "    try:\n",
    "        # Load the existing CSV file \n",
    "        existing_data = pd.read_csv(existing_csv_path)\n",
    "\n",
    "        # Convert string to datetime\n",
    "        existing_data['record_date'] = pd.to_datetime(existing_data['record_date'], format='%m-%d-%Y %H:%M')\n",
    "\n",
    "        # Get the newest record date\n",
    "        newest_record_date = existing_data['record_date'].max()\n",
    "\n",
    "        # Calculate the start date for the new data \n",
    "        start_date = newest_record_date + timedelta(days=1)\n",
    "\n",
    "        # Parse the end date provided as a parameter\n",
    "        end_date = datetime.strptime(end_date_str, \"%m-%d-%Y\")\n",
    "\n",
    "        # Create the URL for the new data with the updated start and end dates\n",
    "        base_url = \"https://apps.wrd.state.or.us/apps/sw/hydro_near_real_time/hydro_download.aspx\"\n",
    "        station_nbr = \"14206956\"\n",
    "        dataset = \"Instantaneous_Stage\"\n",
    "        format_type = \"tsv\"\n",
    "\n",
    "        url = (\n",
    "            f\"{base_url}?station_nbr={station_nbr}\"\n",
    "            f\"&start_date={start_date.strftime('%m/%d/%Y')}%2012:00:00%20AM\"\n",
    "            f\"&end_date={end_date.strftime('%m/%d/%Y')}%2012:00:00%20AM\"\n",
    "            f\"&dataset={dataset}&format={format_type}\"\n",
    "        )\n",
    "\n",
    "        # Send a GET request to the URL to fetch the new data\n",
    "        response = requests.get(url)\n",
    "\n",
    "        # Check if the request was successful\n",
    "        if response.status_code == 200:\n",
    "            # Parse the tab-separated data into a DataFrame\n",
    "            new_data = pd.read_csv(url, sep='\\t')\n",
    "\n",
    "            # Drop columns that are not needed\n",
    "            new_data.drop(['station_nbr','published_status','published_status','download_date'], axis=1, inplace=True)\n",
    "\n",
    "            # Append the new data to the existing data\n",
    "            combined_data = pd.concat([existing_data, new_data], ignore_index=True)\n",
    "\n",
    "            # Save the combined data to the existing CSV file\n",
    "            combined_data.to_csv(existing_csv_path, index=False)\n",
    "            print(\"New data downloaded and appended to the existing CSV file.\")\n",
    "        else:\n",
    "            print(\"Failed to retrieve new data from the URL.\")\n",
    "    except Exception as e:\n",
    "        print(f\"An error occurred: {str(e)}\")\n"
   ]
  },
  {
   "cell_type": "code",
   "execution_count": null,
   "metadata": {},
   "outputs": [],
   "source": [
    "existing_csv_path = \"U:/Research_and_Innovation/_ModellingGroupProjects/ThomasDairy_Continuous Data/ThomasDairy_Data/Water Surface Elevation/OWRD_TRatTualatinPark.csv\"\n",
    "\n",
    "#Change the end date \n",
    "end_date_str = '12-28-2023'\n",
    "update_csv_with_new_data_TualatinPark(existing_csv_path, end_date_str)"
   ]
  },
  {
   "cell_type": "markdown",
   "metadata": {},
   "source": [
    "### Update Spreadsheet with New Data - Fanno Creek"
   ]
  },
  {
   "cell_type": "code",
   "execution_count": 9,
   "metadata": {},
   "outputs": [],
   "source": [
    "def update_csv_with_new_data_FannoCreek(existing_csv_path, end_date_str):\n",
    "    try:\n",
    "        # Load the existing CSV file \n",
    "        existing_data = pd.read_csv(existing_csv_path)\n",
    "\n",
    "        # Convert string to datetime\n",
    "        existing_data['record_date'] = pd.to_datetime(existing_data['record_date'], format='%m-%d-%Y %H:%M')\n",
    "\n",
    "        # Get the newest record date\n",
    "        newest_record_date = existing_data['record_date'].max()\n",
    "\n",
    "        # Calculate the start date for the new data \n",
    "        start_date = newest_record_date + timedelta(days=1)\n",
    "\n",
    "        # Parse the end date provided as a parameter\n",
    "        end_date = datetime.strptime(end_date_str, \"%m-%d-%Y\")\n",
    "\n",
    "        # Create the URL for the new data with the updated start and end dates\n",
    "        base_url = \"https://apps.wrd.state.or.us/apps/sw/hydro_near_real_time/hydro_download.aspx\"\n",
    "        station_nbr = \"14206950\"\n",
    "        dataset = \"Instantaneous_Stage\"\n",
    "        format_type = \"tsv\"\n",
    "\n",
    "        url = (\n",
    "            f\"{base_url}?station_nbr={station_nbr}\"\n",
    "            f\"&start_date={start_date.strftime('%m/%d/%Y')}%2012:00:00%20AM\"\n",
    "            f\"&end_date={end_date.strftime('%m/%d/%Y')}%2012:00:00%20AM\"\n",
    "            f\"&dataset={dataset}&format={format_type}\"\n",
    "        )\n",
    "\n",
    "        # Send a GET request to the URL to fetch the new data\n",
    "        response = requests.get(url)\n",
    "\n",
    "        # Check if the request was successful\n",
    "        if response.status_code == 200:\n",
    "            # Parse the tab-separated data into a DataFrame\n",
    "            new_data = pd.read_csv(url, sep='\\t')\n",
    "\n",
    "            # Drop columns that are not needed\n",
    "            new_data.drop(['station_nbr','published_status','published_status','download_date'], axis=1, inplace=True)\n",
    "\n",
    "            # Append the new data to the existing data\n",
    "            combined_data = pd.concat([existing_data, new_data], ignore_index=True)\n",
    "\n",
    "            # Save the combined data to the existing CSV file\n",
    "            combined_data.to_csv(existing_csv_path, index=False)\n",
    "            print(\"New data downloaded and appended to the existing CSV file.\")\n",
    "        else:\n",
    "            print(\"Failed to retrieve new data from the URL.\")\n",
    "    except Exception as e:\n",
    "        print(f\"An error occurred: {str(e)}\")\n"
   ]
  },
  {
   "cell_type": "code",
   "execution_count": 10,
   "metadata": {},
   "outputs": [
    {
     "name": "stdout",
     "output_type": "stream",
     "text": [
      "New data downloaded and appended to the existing CSV file.\n"
     ]
    }
   ],
   "source": [
    "existing_csv_path = \"U:/Research_and_Innovation/_ModellingGroupProjects/ThomasDairy_Continuous Data/ThomasDairy_Data/Water Surface Elevation/OWRD_FannoCreek.csv\"\n",
    "\n",
    "#Change the end date \n",
    "end_date_str = '12-28-2023'\n",
    "update_csv_with_new_data_FannoCreek(existing_csv_path, end_date_str)"
   ]
  },
  {
   "cell_type": "markdown",
   "metadata": {},
   "source": []
  }
 ],
 "metadata": {
  "kernelspec": {
   "display_name": "base",
   "language": "python",
   "name": "python3"
  },
  "language_info": {
   "codemirror_mode": {
    "name": "ipython",
    "version": 3
   },
   "file_extension": ".py",
   "mimetype": "text/x-python",
   "name": "python",
   "nbconvert_exporter": "python",
   "pygments_lexer": "ipython3",
   "version": "3.9.12"
  }
 },
 "nbformat": 4,
 "nbformat_minor": 2
}
