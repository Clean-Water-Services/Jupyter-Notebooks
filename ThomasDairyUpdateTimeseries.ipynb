{
 "cells": [
  {
   "cell_type": "markdown",
   "metadata": {},
   "source": [
    "# Thomas Dairy Automatic Update of Continous Data"
   ]
  },
  {
   "cell_type": "code",
   "execution_count": 2,
   "metadata": {},
   "outputs": [],
   "source": [
    "import requests\n",
    "import os\n",
    "import pandas as pd\n",
    "from io import StringIO"
   ]
  },
  {
   "cell_type": "markdown",
   "metadata": {},
   "source": [
    "### Setting up Process and Functions"
   ]
  },
  {
   "cell_type": "markdown",
   "metadata": {},
   "source": [
    "#### Download and Replace Data"
   ]
  },
  {
   "cell_type": "code",
   "execution_count": 5,
   "metadata": {},
   "outputs": [],
   "source": [
    "def download_csv_to_dataframe(new_file_url, column_label):\n",
    "    try:\n",
    "        # Send a GET request to download the CSV data\n",
    "        response = requests.get(new_file_url)\n",
    "        response.raise_for_status()\n",
    "\n",
    "        # Read the CSV content directly into a DataFrame using StringIO\n",
    "        df = pd.read_csv(StringIO(response.text), skiprows=64, header=None)\n",
    "\n",
    "        # Remove the first and second columns\n",
    "        df = df.iloc[:, 2:]\n",
    "\n",
    "        # Rename the remaining columns using the provided label\n",
    "        df.rename(columns={df.columns[0]: 'DateTimePST', df.columns[1]: column_label}, inplace=True)\n",
    "\n",
    "        # Convert the 'DateTime' column to datetime data type\n",
    "        df['DateTimePST'] = pd.to_datetime(df['DateTimePST'])\n",
    "\n",
    "        # Display the resulting DataFrame\n",
    "        print(df.head())\n",
    "\n",
    "        return df\n",
    "\n",
    "    except Exception as e:\n",
    "        print(f'Error downloading or processing the new file: {e}')\n",
    "\n"
   ]
  },
  {
   "cell_type": "markdown",
   "metadata": {},
   "source": [
    "### Combine Data & Initialize DateTime Columns"
   ]
  },
  {
   "cell_type": "code",
   "execution_count": 10,
   "metadata": {},
   "outputs": [],
   "source": [
    "def combine_data(existing_file_path, column_rename_dict,df):\n",
    "    try:\n",
    "        # Read the existing data from the Excel file\n",
    "        existing_df = pd.read_excel(existing_file_path)\n",
    "\n",
    "        # Find the oldest datetime in the 'DateTime' column\n",
    "        oldest_datetime_existing = existing_df['DateTime'].max()\n",
    "\n",
    "        # Filter the DataFrame based on the datetime to show only rows where the datetime is \n",
    "        # newer than the last datetime in the existing data\n",
    "        filtered_df = df[df['DateTimePST'] > oldest_datetime_existing]\n",
    "\n",
    "        # Rename columns in 'filtered_df' based on the provided column renaming dictionary\n",
    "        filtered_df.rename(columns=column_rename_dict, inplace=True)\n",
    "\n",
    "        # Append the filtered data to the existing data\n",
    "        combined_df = pd.concat([existing_df, filtered_df], ignore_index=True)\n",
    "\n",
    "        return combined_df\n",
    "\n",
    "    except Exception as e:\n",
    "        print(f'Error combining data: {e}')\n",
    "\n"
   ]
  },
  {
   "cell_type": "markdown",
   "metadata": {},
   "source": [
    "### Combine Data with Datetime Already Initialized"
   ]
  },
  {
   "cell_type": "code",
   "execution_count": 23,
   "metadata": {},
   "outputs": [],
   "source": [
    "def update_columns_in_combined_df(existing_df, downloaded_df, downloaded_column,existing_column ):\n",
    "    try:\n",
    "        for index, row in downloaded_df.iterrows():\n",
    "            datetime_pst = row['DateTimePST']\n",
    "            value = row[downloaded_column]\n",
    "\n",
    "            # Find the row in 'existing_df' with matching 'DateTime' and update the specified columns\n",
    "            existing_df.loc[existing_df['DateTime'] == datetime_pst, existing_column] = value\n",
    "\n",
    "        return existing_df\n",
    "\n",
    "    except Exception as e:\n",
    "        print(f'Error updating columns: {e}')"
   ]
  },
  {
   "cell_type": "markdown",
   "metadata": {},
   "source": [
    "### TD1 Soil Moisture 15 cm"
   ]
  },
  {
   "cell_type": "code",
   "execution_count": 6,
   "metadata": {},
   "outputs": [
    {
     "name": "stdout",
     "output_type": "stream",
     "text": [
      "          DateTimePST  TD1_SoilMoisture_Top15cm\n",
      "0 2023-05-10 13:36:00                       0.1\n",
      "1 2023-05-10 13:38:00                       0.1\n",
      "2 2023-05-10 13:40:00                       0.1\n",
      "3 2023-05-10 13:42:00                       0.1\n",
      "4 2023-05-10 13:44:00                       0.1\n"
     ]
    }
   ],
   "source": [
    "# Site 1: Soil Moisture Top 15 cm\n",
    "new_file_url = 'https://monitormywatershed.org/api/csv-values/?result_id=7638'\n",
    "column_label = 'TD1_SoilMoisture_Top15cm'\n",
    "downloaded_df = download_csv_to_dataframe(new_file_url, column_label)"
   ]
  },
  {
   "cell_type": "code",
   "execution_count": 11,
   "metadata": {},
   "outputs": [
    {
     "name": "stderr",
     "output_type": "stream",
     "text": [
      "C:\\Users\\rodriguezc\\AppData\\Local\\Temp\\ipykernel_17696\\490716558.py:14: SettingWithCopyWarning: \n",
      "A value is trying to be set on a copy of a slice from a DataFrame\n",
      "\n",
      "See the caveats in the documentation: https://pandas.pydata.org/pandas-docs/stable/user_guide/indexing.html#returning-a-view-versus-a-copy\n",
      "  filtered_df.rename(columns=column_rename_dict, inplace=True)\n"
     ]
    }
   ],
   "source": [
    "# Apply function to combine data\n",
    "existing_file_path = 'U:/Research_and_Innovation/_ModellingGroupProjects/ThomasDairy_Continuous Data/ThomasDairy_Data/ThomasDairy1/ThomasDairy1_all.xlsx'\n",
    "column_rename_dict = {'DateTimePST': 'DateTime', 'TD1_SoilMoisture_Top15cm': 'SoilMoisture_top15cm'}\n",
    "combined_data = combine_data(existing_file_path, column_rename_dict, downloaded_df)"
   ]
  },
  {
   "cell_type": "code",
   "execution_count": 14,
   "metadata": {},
   "outputs": [
    {
     "data": {
      "text/html": [
       "<div>\n",
       "<style scoped>\n",
       "    .dataframe tbody tr th:only-of-type {\n",
       "        vertical-align: middle;\n",
       "    }\n",
       "\n",
       "    .dataframe tbody tr th {\n",
       "        vertical-align: top;\n",
       "    }\n",
       "\n",
       "    .dataframe thead th {\n",
       "        text-align: right;\n",
       "    }\n",
       "</style>\n",
       "<table border=\"1\" class=\"dataframe\">\n",
       "  <thead>\n",
       "    <tr style=\"text-align: right;\">\n",
       "      <th></th>\n",
       "      <th>DateTime</th>\n",
       "      <th>SoilMoisture_top15cm</th>\n",
       "      <th>SoilMoisture_15_30cm</th>\n",
       "      <th>SoilMoisture_30_45cm</th>\n",
       "      <th>SoilMoisture_45_60cm</th>\n",
       "      <th>SoilMoisture_60_75cm</th>\n",
       "      <th>SoilMoisture_75_90cm</th>\n",
       "      <th>SoilMoisture_90_105cm</th>\n",
       "      <th>SoilMoisture_105_120cm</th>\n",
       "      <th>SoilTemperature_3.5cm</th>\n",
       "      <th>...</th>\n",
       "      <th>SoilTemperature_80cm</th>\n",
       "      <th>SoilTemperature_90cm</th>\n",
       "      <th>SoilTemperature_100cm</th>\n",
       "      <th>SoilTemperature_110cm</th>\n",
       "      <th>SoilTemperature_120cm</th>\n",
       "      <th>gageHeight</th>\n",
       "      <th>pressureGauge</th>\n",
       "      <th>Keller_Temp</th>\n",
       "      <th>Y520-A_Cond</th>\n",
       "      <th>Y520-A_Temp</th>\n",
       "    </tr>\n",
       "  </thead>\n",
       "  <tbody>\n",
       "    <tr>\n",
       "      <th>118704</th>\n",
       "      <td>2024-01-03 10:06:00</td>\n",
       "      <td>78.0</td>\n",
       "      <td>NaN</td>\n",
       "      <td>NaN</td>\n",
       "      <td>NaN</td>\n",
       "      <td>NaN</td>\n",
       "      <td>NaN</td>\n",
       "      <td>NaN</td>\n",
       "      <td>NaN</td>\n",
       "      <td>NaN</td>\n",
       "      <td>...</td>\n",
       "      <td>NaN</td>\n",
       "      <td>NaN</td>\n",
       "      <td>NaN</td>\n",
       "      <td>NaN</td>\n",
       "      <td>NaN</td>\n",
       "      <td>NaN</td>\n",
       "      <td>NaN</td>\n",
       "      <td>NaN</td>\n",
       "      <td>NaN</td>\n",
       "      <td>NaN</td>\n",
       "    </tr>\n",
       "    <tr>\n",
       "      <th>118705</th>\n",
       "      <td>2024-01-03 10:08:00</td>\n",
       "      <td>78.1</td>\n",
       "      <td>NaN</td>\n",
       "      <td>NaN</td>\n",
       "      <td>NaN</td>\n",
       "      <td>NaN</td>\n",
       "      <td>NaN</td>\n",
       "      <td>NaN</td>\n",
       "      <td>NaN</td>\n",
       "      <td>NaN</td>\n",
       "      <td>...</td>\n",
       "      <td>NaN</td>\n",
       "      <td>NaN</td>\n",
       "      <td>NaN</td>\n",
       "      <td>NaN</td>\n",
       "      <td>NaN</td>\n",
       "      <td>NaN</td>\n",
       "      <td>NaN</td>\n",
       "      <td>NaN</td>\n",
       "      <td>NaN</td>\n",
       "      <td>NaN</td>\n",
       "    </tr>\n",
       "    <tr>\n",
       "      <th>118706</th>\n",
       "      <td>2024-01-03 10:10:00</td>\n",
       "      <td>78.2</td>\n",
       "      <td>NaN</td>\n",
       "      <td>NaN</td>\n",
       "      <td>NaN</td>\n",
       "      <td>NaN</td>\n",
       "      <td>NaN</td>\n",
       "      <td>NaN</td>\n",
       "      <td>NaN</td>\n",
       "      <td>NaN</td>\n",
       "      <td>...</td>\n",
       "      <td>NaN</td>\n",
       "      <td>NaN</td>\n",
       "      <td>NaN</td>\n",
       "      <td>NaN</td>\n",
       "      <td>NaN</td>\n",
       "      <td>NaN</td>\n",
       "      <td>NaN</td>\n",
       "      <td>NaN</td>\n",
       "      <td>NaN</td>\n",
       "      <td>NaN</td>\n",
       "    </tr>\n",
       "    <tr>\n",
       "      <th>118707</th>\n",
       "      <td>2024-01-03 10:12:00</td>\n",
       "      <td>78.3</td>\n",
       "      <td>NaN</td>\n",
       "      <td>NaN</td>\n",
       "      <td>NaN</td>\n",
       "      <td>NaN</td>\n",
       "      <td>NaN</td>\n",
       "      <td>NaN</td>\n",
       "      <td>NaN</td>\n",
       "      <td>NaN</td>\n",
       "      <td>...</td>\n",
       "      <td>NaN</td>\n",
       "      <td>NaN</td>\n",
       "      <td>NaN</td>\n",
       "      <td>NaN</td>\n",
       "      <td>NaN</td>\n",
       "      <td>NaN</td>\n",
       "      <td>NaN</td>\n",
       "      <td>NaN</td>\n",
       "      <td>NaN</td>\n",
       "      <td>NaN</td>\n",
       "    </tr>\n",
       "    <tr>\n",
       "      <th>118708</th>\n",
       "      <td>2024-01-03 10:14:00</td>\n",
       "      <td>78.4</td>\n",
       "      <td>NaN</td>\n",
       "      <td>NaN</td>\n",
       "      <td>NaN</td>\n",
       "      <td>NaN</td>\n",
       "      <td>NaN</td>\n",
       "      <td>NaN</td>\n",
       "      <td>NaN</td>\n",
       "      <td>NaN</td>\n",
       "      <td>...</td>\n",
       "      <td>NaN</td>\n",
       "      <td>NaN</td>\n",
       "      <td>NaN</td>\n",
       "      <td>NaN</td>\n",
       "      <td>NaN</td>\n",
       "      <td>NaN</td>\n",
       "      <td>NaN</td>\n",
       "      <td>NaN</td>\n",
       "      <td>NaN</td>\n",
       "      <td>NaN</td>\n",
       "    </tr>\n",
       "  </tbody>\n",
       "</table>\n",
       "<p>5 rows × 27 columns</p>\n",
       "</div>"
      ],
      "text/plain": [
       "                  DateTime  SoilMoisture_top15cm  SoilMoisture_15_30cm  \\\n",
       "118704 2024-01-03 10:06:00                  78.0                   NaN   \n",
       "118705 2024-01-03 10:08:00                  78.1                   NaN   \n",
       "118706 2024-01-03 10:10:00                  78.2                   NaN   \n",
       "118707 2024-01-03 10:12:00                  78.3                   NaN   \n",
       "118708 2024-01-03 10:14:00                  78.4                   NaN   \n",
       "\n",
       "        SoilMoisture_30_45cm  SoilMoisture_45_60cm  SoilMoisture_60_75cm  \\\n",
       "118704                   NaN                   NaN                   NaN   \n",
       "118705                   NaN                   NaN                   NaN   \n",
       "118706                   NaN                   NaN                   NaN   \n",
       "118707                   NaN                   NaN                   NaN   \n",
       "118708                   NaN                   NaN                   NaN   \n",
       "\n",
       "        SoilMoisture_75_90cm  SoilMoisture_90_105cm  SoilMoisture_105_120cm  \\\n",
       "118704                   NaN                    NaN                     NaN   \n",
       "118705                   NaN                    NaN                     NaN   \n",
       "118706                   NaN                    NaN                     NaN   \n",
       "118707                   NaN                    NaN                     NaN   \n",
       "118708                   NaN                    NaN                     NaN   \n",
       "\n",
       "        SoilTemperature_3.5cm  ...  SoilTemperature_80cm  \\\n",
       "118704                    NaN  ...                   NaN   \n",
       "118705                    NaN  ...                   NaN   \n",
       "118706                    NaN  ...                   NaN   \n",
       "118707                    NaN  ...                   NaN   \n",
       "118708                    NaN  ...                   NaN   \n",
       "\n",
       "        SoilTemperature_90cm  SoilTemperature_100cm  SoilTemperature_110cm  \\\n",
       "118704                   NaN                    NaN                    NaN   \n",
       "118705                   NaN                    NaN                    NaN   \n",
       "118706                   NaN                    NaN                    NaN   \n",
       "118707                   NaN                    NaN                    NaN   \n",
       "118708                   NaN                    NaN                    NaN   \n",
       "\n",
       "        SoilTemperature_120cm  gageHeight  pressureGauge  Keller_Temp  \\\n",
       "118704                    NaN         NaN            NaN          NaN   \n",
       "118705                    NaN         NaN            NaN          NaN   \n",
       "118706                    NaN         NaN            NaN          NaN   \n",
       "118707                    NaN         NaN            NaN          NaN   \n",
       "118708                    NaN         NaN            NaN          NaN   \n",
       "\n",
       "        Y520-A_Cond  Y520-A_Temp  \n",
       "118704          NaN          NaN  \n",
       "118705          NaN          NaN  \n",
       "118706          NaN          NaN  \n",
       "118707          NaN          NaN  \n",
       "118708          NaN          NaN  \n",
       "\n",
       "[5 rows x 27 columns]"
      ]
     },
     "execution_count": 14,
     "metadata": {},
     "output_type": "execute_result"
    }
   ],
   "source": [
    "combined_data.tail()"
   ]
  },
  {
   "cell_type": "code",
   "execution_count": 15,
   "metadata": {},
   "outputs": [],
   "source": [
    "# Save the 'combined_df' DataFrame to replace the existing Excel workbook\n",
    "combined_data.to_excel('U:/Research_and_Innovation/_ModellingGroupProjects/ThomasDairy_Continuous Data/ThomasDairy_Data/ThomasDairy1/ThomasDairy1_all.xlsx', index=False)"
   ]
  },
  {
   "cell_type": "markdown",
   "metadata": {},
   "source": [
    "### TD1_Soil Moisture 15-30 cm"
   ]
  },
  {
   "cell_type": "code",
   "execution_count": 16,
   "metadata": {},
   "outputs": [
    {
     "name": "stdout",
     "output_type": "stream",
     "text": [
      "          DateTimePST  TD1_SoilMoisture_Top15_30cm\n",
      "0 2023-05-10 13:36:00                          0.1\n",
      "1 2023-05-10 13:38:00                          0.1\n",
      "2 2023-05-10 13:40:00                          0.1\n",
      "3 2023-05-10 13:42:00                          0.1\n",
      "4 2023-05-10 13:44:00                          0.1\n"
     ]
    }
   ],
   "source": [
    "# Site 1: Soil Moisture Top 15-30 cm\n",
    "new_file_url = 'https://monitormywatershed.org/api/csv-values/?result_id=7643'\n",
    "column_label = 'TD1_SoilMoisture_Top15_30cm'\n",
    "downloaded_df = download_csv_to_dataframe(new_file_url, column_label)"
   ]
  },
  {
   "cell_type": "code",
   "execution_count": 25,
   "metadata": {},
   "outputs": [],
   "source": [
    "existing_df = pd.read_excel('U:/Research_and_Innovation/_ModellingGroupProjects/ThomasDairy_Continuous Data/ThomasDairy_Data/ThomasDairy1/ThomasDairy1_all.xlsx')\n",
    "downloaded_column = 'TD1_SoilMoisture_Top15_30cm'\n",
    "existing_column = 'SoilMoisture_15_30cm'\n",
    "new_df = update_columns_in_combined_df(existing_df, downloaded_df, downloaded_column,existing_column )"
   ]
  },
  {
   "cell_type": "code",
   "execution_count": 26,
   "metadata": {},
   "outputs": [],
   "source": [
    "# Save the 'new_df' DataFrame to replace the existing Excel workbook\n",
    "new_df.to_excel('U:/Research_and_Innovation/_ModellingGroupProjects/ThomasDairy_Continuous Data/ThomasDairy_Data/ThomasDairy1/ThomasDairy1_all.xlsx', index=False)"
   ]
  }
 ],
 "metadata": {
  "kernelspec": {
   "display_name": "base",
   "language": "python",
   "name": "python3"
  },
  "language_info": {
   "codemirror_mode": {
    "name": "ipython",
    "version": 3
   },
   "file_extension": ".py",
   "mimetype": "text/x-python",
   "name": "python",
   "nbconvert_exporter": "python",
   "pygments_lexer": "ipython3",
   "version": "3.9.12"
  }
 },
 "nbformat": 4,
 "nbformat_minor": 2
}
