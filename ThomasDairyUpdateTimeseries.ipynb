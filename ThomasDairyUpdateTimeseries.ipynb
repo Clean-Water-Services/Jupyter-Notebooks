{
 "cells": [
  {
   "cell_type": "markdown",
   "metadata": {},
   "source": [
    "# Thomas Dairy Automatic Update of Continous Data"
   ]
  },
  {
   "cell_type": "code",
   "execution_count": 75,
   "metadata": {},
   "outputs": [],
   "source": [
    "import requests\n",
    "import os\n",
    "import shutil\n",
    "import pandas as pd"
   ]
  },
  {
   "cell_type": "markdown",
   "metadata": {},
   "source": [
    "### Download and Replace Data"
   ]
  },
  {
   "cell_type": "markdown",
   "metadata": {},
   "source": [
    "#### TD1 Soil Moisture 15 cm"
   ]
  },
  {
   "cell_type": "code",
   "execution_count": 76,
   "metadata": {},
   "outputs": [
    {
     "name": "stdout",
     "output_type": "stream",
     "text": [
      "New file downloaded and saved to: U:/Research_and_Innovation/_ModellingGroupProjects/ThomasDairy_Continuous Data/ThomasDairy_Data/ThomasDairy1\\CWS-WQ-ThomasDairy-1_GroPoint_Profile_Moisture_7638.csv\n"
     ]
    }
   ],
   "source": [
    "# Define the URL of the new file to download\n",
    "new_file_url_TD1_SoilMoisture_Top15cm = 'https://monitormywatershed.org/api/csv-values/?result_id=7638'\n",
    "\n",
    "# Define the local folder for the PowerBI files\n",
    "download_folder = 'U:/Research_and_Innovation/_ModellingGroupProjects/ThomasDairy_Continuous Data/ThomasDairy_Data/ThomasDairy1'\n",
    "\n",
    "# Create the full path for the new file\n",
    "new_file_path = os.path.join(download_folder, 'CWS-WQ-ThomasDairy-1_GroPoint_Profile_Moisture_7638.csv')\n",
    "\n",
    "# Download the file\n",
    "try:\n",
    "    response = requests.get(new_file_url_TD1_SoilMoisture_Top15cm, stream=True)\n",
    "    response.raise_for_status()\n",
    "    \n",
    "    # Save the new file to the local folder (overwrite if it exists)\n",
    "    with open(new_file_path, 'wb') as file:\n",
    "        for chunk in response.iter_content(chunk_size=8192):\n",
    "            file.write(chunk)\n",
    "\n",
    "    print(f'New file downloaded and saved to: {new_file_path}')\n",
    "\n",
    "except Exception as e:\n",
    "    print(f'Error downloading the new file: {e}')"
   ]
  },
  {
   "cell_type": "markdown",
   "metadata": {},
   "source": [
    "### Read New File and Transform into a Dataframe"
   ]
  },
  {
   "cell_type": "code",
   "execution_count": 77,
   "metadata": {},
   "outputs": [],
   "source": [
    "# Read the CSV file into a dataframe\n",
    "df = pd.read_csv(new_file_path, skiprows=64)"
   ]
  },
  {
   "cell_type": "code",
   "execution_count": 78,
   "metadata": {},
   "outputs": [
    {
     "name": "stdout",
     "output_type": "stream",
     "text": [
      "           DateTimePST  TD1_SoilMoisture_Top15cm\n",
      "0  2023-05-10 13:38:00                       0.1\n",
      "1  2023-05-10 13:40:00                       0.1\n",
      "2  2023-05-10 13:42:00                       0.1\n",
      "3  2023-05-10 13:44:00                       0.1\n",
      "4  2023-05-10 13:46:00                       0.1\n"
     ]
    }
   ],
   "source": [
    "# Remove the first and second columns\n",
    "df = df.iloc[:, 2:]\n",
    "\n",
    "# Rename the remaining columns\n",
    "df.rename(columns={df.columns[0]: 'DateTimePST', df.columns[1]: 'TD1_SoilMoisture_Top15cm'}, inplace=True)\n",
    "\n",
    "# Display the resulting DataFrame\n",
    "print(df.head())"
   ]
  },
  {
   "cell_type": "code",
   "execution_count": 79,
   "metadata": {},
   "outputs": [],
   "source": [
    "# Convert the 'DateTime' column to datetime data type\n",
    "df['DateTimePST'] = pd.to_datetime(df['DateTimePST'])"
   ]
  },
  {
   "cell_type": "markdown",
   "metadata": {},
   "source": [
    "### Read Excel Workbook with Site Data Copilation"
   ]
  },
  {
   "cell_type": "code",
   "execution_count": 80,
   "metadata": {},
   "outputs": [],
   "source": [
    "# Define the path to the existing Excel workbook with the compiled data\n",
    "TD1_existing_file_path = 'U:/Research_and_Innovation/_ModellingGroupProjects/ThomasDairy_Continuous Data/ThomasDairy_Data/ThomasDairy1/ThomasDairy1_all.xlsx'\n",
    "\n",
    "# Read the existing data \n",
    "existing_df = pd.read_excel(TD1_existing_file_path)\n"
   ]
  },
  {
   "cell_type": "code",
   "execution_count": 81,
   "metadata": {},
   "outputs": [],
   "source": [
    "# Find the oldest datetime in the 'DateTime' column\n",
    "oldest_datetime_existing = existing_df['DateTime'].max()"
   ]
  },
  {
   "cell_type": "markdown",
   "metadata": {},
   "source": [
    "### Compare Existing Data to New Data"
   ]
  },
  {
   "cell_type": "code",
   "execution_count": 82,
   "metadata": {},
   "outputs": [],
   "source": [
    "# Filter the DataFrame based on the datetime to show only rows where the datetime is \n",
    "# newer than the last datatime in the existing data\n",
    "filtered_df = df[df['DateTimePST'] > oldest_datetime_existing]\n"
   ]
  },
  {
   "cell_type": "code",
   "execution_count": 83,
   "metadata": {},
   "outputs": [
    {
     "data": {
      "text/html": [
       "<div>\n",
       "<style scoped>\n",
       "    .dataframe tbody tr th:only-of-type {\n",
       "        vertical-align: middle;\n",
       "    }\n",
       "\n",
       "    .dataframe tbody tr th {\n",
       "        vertical-align: top;\n",
       "    }\n",
       "\n",
       "    .dataframe thead th {\n",
       "        text-align: right;\n",
       "    }\n",
       "</style>\n",
       "<table border=\"1\" class=\"dataframe\">\n",
       "  <thead>\n",
       "    <tr style=\"text-align: right;\">\n",
       "      <th></th>\n",
       "      <th>DateTimePST</th>\n",
       "      <th>TD1_SoilMoisture_Top15cm</th>\n",
       "    </tr>\n",
       "  </thead>\n",
       "  <tbody>\n",
       "    <tr>\n",
       "      <th>45652</th>\n",
       "      <td>2023-09-19 07:54:00</td>\n",
       "      <td>67.2</td>\n",
       "    </tr>\n",
       "    <tr>\n",
       "      <th>45653</th>\n",
       "      <td>2023-09-19 07:56:00</td>\n",
       "      <td>67.2</td>\n",
       "    </tr>\n",
       "    <tr>\n",
       "      <th>45654</th>\n",
       "      <td>2023-09-19 07:58:00</td>\n",
       "      <td>67.2</td>\n",
       "    </tr>\n",
       "    <tr>\n",
       "      <th>45655</th>\n",
       "      <td>2023-09-19 08:00:00</td>\n",
       "      <td>67.2</td>\n",
       "    </tr>\n",
       "    <tr>\n",
       "      <th>45656</th>\n",
       "      <td>2023-09-19 08:02:00</td>\n",
       "      <td>67.1</td>\n",
       "    </tr>\n",
       "    <tr>\n",
       "      <th>...</th>\n",
       "      <td>...</td>\n",
       "      <td>...</td>\n",
       "    </tr>\n",
       "    <tr>\n",
       "      <th>113087</th>\n",
       "      <td>2023-12-26 14:48:00</td>\n",
       "      <td>89.5</td>\n",
       "    </tr>\n",
       "    <tr>\n",
       "      <th>113088</th>\n",
       "      <td>2023-12-26 14:50:00</td>\n",
       "      <td>89.5</td>\n",
       "    </tr>\n",
       "    <tr>\n",
       "      <th>113089</th>\n",
       "      <td>2023-12-26 14:52:00</td>\n",
       "      <td>89.5</td>\n",
       "    </tr>\n",
       "    <tr>\n",
       "      <th>113090</th>\n",
       "      <td>2023-12-26 14:54:00</td>\n",
       "      <td>89.5</td>\n",
       "    </tr>\n",
       "    <tr>\n",
       "      <th>113091</th>\n",
       "      <td>2023-12-26 14:56:00</td>\n",
       "      <td>89.5</td>\n",
       "    </tr>\n",
       "  </tbody>\n",
       "</table>\n",
       "<p>67440 rows × 2 columns</p>\n",
       "</div>"
      ],
      "text/plain": [
       "               DateTimePST  TD1_SoilMoisture_Top15cm\n",
       "45652  2023-09-19 07:54:00                      67.2\n",
       "45653  2023-09-19 07:56:00                      67.2\n",
       "45654  2023-09-19 07:58:00                      67.2\n",
       "45655  2023-09-19 08:00:00                      67.2\n",
       "45656  2023-09-19 08:02:00                      67.1\n",
       "...                    ...                       ...\n",
       "113087 2023-12-26 14:48:00                      89.5\n",
       "113088 2023-12-26 14:50:00                      89.5\n",
       "113089 2023-12-26 14:52:00                      89.5\n",
       "113090 2023-12-26 14:54:00                      89.5\n",
       "113091 2023-12-26 14:56:00                      89.5\n",
       "\n",
       "[67440 rows x 2 columns]"
      ]
     },
     "execution_count": 83,
     "metadata": {},
     "output_type": "execute_result"
    }
   ],
   "source": [
    "filtered_df"
   ]
  },
  {
   "cell_type": "markdown",
   "metadata": {},
   "source": [
    "### Append New Data to the Existing Excel Workbook"
   ]
  },
  {
   "cell_type": "code",
   "execution_count": 85,
   "metadata": {},
   "outputs": [
    {
     "name": "stderr",
     "output_type": "stream",
     "text": [
      "C:\\Users\\rodriguezc\\AppData\\Local\\Temp\\ipykernel_16184\\3881820157.py:2: SettingWithCopyWarning: \n",
      "A value is trying to be set on a copy of a slice from a DataFrame\n",
      "\n",
      "See the caveats in the documentation: https://pandas.pydata.org/pandas-docs/stable/user_guide/indexing.html#returning-a-view-versus-a-copy\n",
      "  filtered_df.rename(columns={'DateTimePST': 'DateTime', 'TD1_SoilMoisture_Top15cm': 'SoilMoisture_top15cm'}, inplace=True)\n"
     ]
    }
   ],
   "source": [
    "# Rename columns in 'filtered_df' to match 'existing_df'\n",
    "filtered_df.rename(columns={'DateTimePST': 'DateTime', 'TD1_SoilMoisture_Top15cm': 'SoilMoisture_top15cm'}, inplace=True)\n",
    "\n",
    "# Append the filtered data to the existing data\n",
    "combined_df = pd.concat([existing_df, filtered_df], ignore_index=True)"
   ]
  },
  {
   "cell_type": "code",
   "execution_count": 87,
   "metadata": {},
   "outputs": [
    {
     "data": {
      "text/html": [
       "<div>\n",
       "<style scoped>\n",
       "    .dataframe tbody tr th:only-of-type {\n",
       "        vertical-align: middle;\n",
       "    }\n",
       "\n",
       "    .dataframe tbody tr th {\n",
       "        vertical-align: top;\n",
       "    }\n",
       "\n",
       "    .dataframe thead th {\n",
       "        text-align: right;\n",
       "    }\n",
       "</style>\n",
       "<table border=\"1\" class=\"dataframe\">\n",
       "  <thead>\n",
       "    <tr style=\"text-align: right;\">\n",
       "      <th></th>\n",
       "      <th>DateTime</th>\n",
       "      <th>SoilMoisture_top15cm</th>\n",
       "      <th>SoilMoisture_15_30cm</th>\n",
       "      <th>SoilMoisture_30_45cm</th>\n",
       "      <th>SoilMoisture_45_60cm</th>\n",
       "      <th>SoilMoisture_60_75cm</th>\n",
       "      <th>SoilMoisture_75_90cm</th>\n",
       "      <th>SoilMoisture_90_105cm</th>\n",
       "      <th>SoilMoisture_105_120cm</th>\n",
       "      <th>SoilTemperature_3.5cm</th>\n",
       "      <th>...</th>\n",
       "      <th>SoilTemperature_80cm</th>\n",
       "      <th>SoilTemperature_90cm</th>\n",
       "      <th>SoilTemperature_100cm</th>\n",
       "      <th>SoilTemperature_110cm</th>\n",
       "      <th>SoilTemperature_120cm</th>\n",
       "      <th>gageHeight</th>\n",
       "      <th>pressureGauge</th>\n",
       "      <th>Keller_Temp</th>\n",
       "      <th>Y520-A_Cond</th>\n",
       "      <th>Y520-A_Temp</th>\n",
       "    </tr>\n",
       "  </thead>\n",
       "  <tbody>\n",
       "    <tr>\n",
       "      <th>113095</th>\n",
       "      <td>2023-12-26 14:48:00</td>\n",
       "      <td>89.5</td>\n",
       "      <td>NaN</td>\n",
       "      <td>NaN</td>\n",
       "      <td>NaN</td>\n",
       "      <td>NaN</td>\n",
       "      <td>NaN</td>\n",
       "      <td>NaN</td>\n",
       "      <td>NaN</td>\n",
       "      <td>NaN</td>\n",
       "      <td>...</td>\n",
       "      <td>NaN</td>\n",
       "      <td>NaN</td>\n",
       "      <td>NaN</td>\n",
       "      <td>NaN</td>\n",
       "      <td>NaN</td>\n",
       "      <td>NaN</td>\n",
       "      <td>NaN</td>\n",
       "      <td>NaN</td>\n",
       "      <td>NaN</td>\n",
       "      <td>NaN</td>\n",
       "    </tr>\n",
       "    <tr>\n",
       "      <th>113096</th>\n",
       "      <td>2023-12-26 14:50:00</td>\n",
       "      <td>89.5</td>\n",
       "      <td>NaN</td>\n",
       "      <td>NaN</td>\n",
       "      <td>NaN</td>\n",
       "      <td>NaN</td>\n",
       "      <td>NaN</td>\n",
       "      <td>NaN</td>\n",
       "      <td>NaN</td>\n",
       "      <td>NaN</td>\n",
       "      <td>...</td>\n",
       "      <td>NaN</td>\n",
       "      <td>NaN</td>\n",
       "      <td>NaN</td>\n",
       "      <td>NaN</td>\n",
       "      <td>NaN</td>\n",
       "      <td>NaN</td>\n",
       "      <td>NaN</td>\n",
       "      <td>NaN</td>\n",
       "      <td>NaN</td>\n",
       "      <td>NaN</td>\n",
       "    </tr>\n",
       "    <tr>\n",
       "      <th>113097</th>\n",
       "      <td>2023-12-26 14:52:00</td>\n",
       "      <td>89.5</td>\n",
       "      <td>NaN</td>\n",
       "      <td>NaN</td>\n",
       "      <td>NaN</td>\n",
       "      <td>NaN</td>\n",
       "      <td>NaN</td>\n",
       "      <td>NaN</td>\n",
       "      <td>NaN</td>\n",
       "      <td>NaN</td>\n",
       "      <td>...</td>\n",
       "      <td>NaN</td>\n",
       "      <td>NaN</td>\n",
       "      <td>NaN</td>\n",
       "      <td>NaN</td>\n",
       "      <td>NaN</td>\n",
       "      <td>NaN</td>\n",
       "      <td>NaN</td>\n",
       "      <td>NaN</td>\n",
       "      <td>NaN</td>\n",
       "      <td>NaN</td>\n",
       "    </tr>\n",
       "    <tr>\n",
       "      <th>113098</th>\n",
       "      <td>2023-12-26 14:54:00</td>\n",
       "      <td>89.5</td>\n",
       "      <td>NaN</td>\n",
       "      <td>NaN</td>\n",
       "      <td>NaN</td>\n",
       "      <td>NaN</td>\n",
       "      <td>NaN</td>\n",
       "      <td>NaN</td>\n",
       "      <td>NaN</td>\n",
       "      <td>NaN</td>\n",
       "      <td>...</td>\n",
       "      <td>NaN</td>\n",
       "      <td>NaN</td>\n",
       "      <td>NaN</td>\n",
       "      <td>NaN</td>\n",
       "      <td>NaN</td>\n",
       "      <td>NaN</td>\n",
       "      <td>NaN</td>\n",
       "      <td>NaN</td>\n",
       "      <td>NaN</td>\n",
       "      <td>NaN</td>\n",
       "    </tr>\n",
       "    <tr>\n",
       "      <th>113099</th>\n",
       "      <td>2023-12-26 14:56:00</td>\n",
       "      <td>89.5</td>\n",
       "      <td>NaN</td>\n",
       "      <td>NaN</td>\n",
       "      <td>NaN</td>\n",
       "      <td>NaN</td>\n",
       "      <td>NaN</td>\n",
       "      <td>NaN</td>\n",
       "      <td>NaN</td>\n",
       "      <td>NaN</td>\n",
       "      <td>...</td>\n",
       "      <td>NaN</td>\n",
       "      <td>NaN</td>\n",
       "      <td>NaN</td>\n",
       "      <td>NaN</td>\n",
       "      <td>NaN</td>\n",
       "      <td>NaN</td>\n",
       "      <td>NaN</td>\n",
       "      <td>NaN</td>\n",
       "      <td>NaN</td>\n",
       "      <td>NaN</td>\n",
       "    </tr>\n",
       "  </tbody>\n",
       "</table>\n",
       "<p>5 rows × 27 columns</p>\n",
       "</div>"
      ],
      "text/plain": [
       "                  DateTime  SoilMoisture_top15cm  SoilMoisture_15_30cm  \\\n",
       "113095 2023-12-26 14:48:00                  89.5                   NaN   \n",
       "113096 2023-12-26 14:50:00                  89.5                   NaN   \n",
       "113097 2023-12-26 14:52:00                  89.5                   NaN   \n",
       "113098 2023-12-26 14:54:00                  89.5                   NaN   \n",
       "113099 2023-12-26 14:56:00                  89.5                   NaN   \n",
       "\n",
       "        SoilMoisture_30_45cm  SoilMoisture_45_60cm  SoilMoisture_60_75cm  \\\n",
       "113095                   NaN                   NaN                   NaN   \n",
       "113096                   NaN                   NaN                   NaN   \n",
       "113097                   NaN                   NaN                   NaN   \n",
       "113098                   NaN                   NaN                   NaN   \n",
       "113099                   NaN                   NaN                   NaN   \n",
       "\n",
       "        SoilMoisture_75_90cm  SoilMoisture_90_105cm  SoilMoisture_105_120cm  \\\n",
       "113095                   NaN                    NaN                     NaN   \n",
       "113096                   NaN                    NaN                     NaN   \n",
       "113097                   NaN                    NaN                     NaN   \n",
       "113098                   NaN                    NaN                     NaN   \n",
       "113099                   NaN                    NaN                     NaN   \n",
       "\n",
       "        SoilTemperature_3.5cm  ...  SoilTemperature_80cm  \\\n",
       "113095                    NaN  ...                   NaN   \n",
       "113096                    NaN  ...                   NaN   \n",
       "113097                    NaN  ...                   NaN   \n",
       "113098                    NaN  ...                   NaN   \n",
       "113099                    NaN  ...                   NaN   \n",
       "\n",
       "        SoilTemperature_90cm  SoilTemperature_100cm  SoilTemperature_110cm  \\\n",
       "113095                   NaN                    NaN                    NaN   \n",
       "113096                   NaN                    NaN                    NaN   \n",
       "113097                   NaN                    NaN                    NaN   \n",
       "113098                   NaN                    NaN                    NaN   \n",
       "113099                   NaN                    NaN                    NaN   \n",
       "\n",
       "        SoilTemperature_120cm  gageHeight  pressureGauge  Keller_Temp  \\\n",
       "113095                    NaN         NaN            NaN          NaN   \n",
       "113096                    NaN         NaN            NaN          NaN   \n",
       "113097                    NaN         NaN            NaN          NaN   \n",
       "113098                    NaN         NaN            NaN          NaN   \n",
       "113099                    NaN         NaN            NaN          NaN   \n",
       "\n",
       "        Y520-A_Cond  Y520-A_Temp  \n",
       "113095          NaN          NaN  \n",
       "113096          NaN          NaN  \n",
       "113097          NaN          NaN  \n",
       "113098          NaN          NaN  \n",
       "113099          NaN          NaN  \n",
       "\n",
       "[5 rows x 27 columns]"
      ]
     },
     "execution_count": 87,
     "metadata": {},
     "output_type": "execute_result"
    }
   ],
   "source": [
    "combined_df.tail()"
   ]
  },
  {
   "cell_type": "markdown",
   "metadata": {},
   "source": [
    "####TD1_Soil Moisture 15-30 cm"
   ]
  },
  {
   "cell_type": "code",
   "execution_count": 89,
   "metadata": {},
   "outputs": [
    {
     "name": "stdout",
     "output_type": "stream",
     "text": [
      "New file downloaded and saved to: U:/Research_and_Innovation/_ModellingGroupProjects/ThomasDairy_Continuous Data/ThomasDairy_Data/ThomasDairy1\\CWS-WQ-ThomasDairy-1_GroPoint_Profile_Moisture_7643.csv\n"
     ]
    }
   ],
   "source": [
    "# Define the URL of the new file to download\n",
    "new_file_url_TD1_SoilMoisture_15_30cm = 'https://monitormywatershed.org/api/csv-values/?result_id=7643'\n",
    "\n",
    "# Define the local folder for the PowerBI files\n",
    "download_folder = 'U:/Research_and_Innovation/_ModellingGroupProjects/ThomasDairy_Continuous Data/ThomasDairy_Data/ThomasDairy1'\n",
    "\n",
    "# Create the full path for the new file\n",
    "new_file_path = os.path.join(download_folder, 'CWS-WQ-ThomasDairy-1_GroPoint_Profile_Moisture_7643.csv')\n",
    "\n",
    "# Download the file\n",
    "try:\n",
    "    response = requests.get(new_file_url_TD1_SoilMoisture_15_30cm, stream=True)\n",
    "    response.raise_for_status()\n",
    "    \n",
    "    # Save the new file to the local folder (overwrite if it exists)\n",
    "    with open(new_file_path, 'wb') as file:\n",
    "        for chunk in response.iter_content(chunk_size=8192):\n",
    "            file.write(chunk)\n",
    "\n",
    "    print(f'New file downloaded and saved to: {new_file_path}')\n",
    "\n",
    "except Exception as e:\n",
    "    print(f'Error downloading the new file: {e}')"
   ]
  },
  {
   "cell_type": "code",
   "execution_count": 90,
   "metadata": {},
   "outputs": [],
   "source": [
    "# Read the CSV file into a dataframe\n",
    "df = pd.read_csv(new_file_path, skiprows=64)"
   ]
  },
  {
   "cell_type": "code",
   "execution_count": 91,
   "metadata": {},
   "outputs": [
    {
     "name": "stdout",
     "output_type": "stream",
     "text": [
      "           DateTimePST  TD1_SoilMoisture_15_30cm\n",
      "0  2023-05-10 13:38:00                       0.1\n",
      "1  2023-05-10 13:40:00                       0.1\n",
      "2  2023-05-10 13:42:00                       0.1\n",
      "3  2023-05-10 13:44:00                       0.1\n",
      "4  2023-05-10 13:46:00                       0.1\n"
     ]
    }
   ],
   "source": [
    "# Remove the first and second columns\n",
    "df = df.iloc[:, 2:]\n",
    "\n",
    "# Rename the remaining columns\n",
    "df.rename(columns={df.columns[0]: 'DateTimePST', df.columns[1]: 'TD1_SoilMoisture_15_30cm'}, inplace=True)\n",
    "\n",
    "# Display the resulting DataFrame\n",
    "print(df.head())"
   ]
  },
  {
   "cell_type": "code",
   "execution_count": 92,
   "metadata": {},
   "outputs": [],
   "source": [
    "# Convert the 'DateTime' column to datetime data type\n",
    "df['DateTimePST'] = pd.to_datetime(df['DateTimePST'])"
   ]
  },
  {
   "cell_type": "code",
   "execution_count": 95,
   "metadata": {},
   "outputs": [],
   "source": [
    "# Match 'DateTimePST' values to 'DateTime' in 'combined_df' and update 'SoilMoisture_15_30cm'\n",
    "for index, row in df.iterrows():\n",
    "    datetime_pst = row['DateTimePST']\n",
    "    value_15_30cm = row['TD1_SoilMoisture_15_30cm']\n",
    "    \n",
    "    # Find the row in 'combined_df' with matching 'DateTime' and update 'SoilMoisture_15_30cm'\n",
    "    combined_df.loc[combined_df['DateTime'] == datetime_pst, 'SoilMoisture_15_30cm'] = value_15_30cm"
   ]
  },
  {
   "cell_type": "markdown",
   "metadata": {},
   "source": [
    "### Save Updated File"
   ]
  },
  {
   "cell_type": "code",
   "execution_count": 97,
   "metadata": {},
   "outputs": [],
   "source": [
    "# Save the 'combined_df' DataFrame to replace the existing Excel workbook\n",
    "combined_df.to_excel('U:/Research_and_Innovation/_ModellingGroupProjects/ThomasDairy_Continuous Data/ThomasDairy_Data/ThomasDairy1/ThomasDairy1_all.xlsx', index=False)"
   ]
  },
  {
   "cell_type": "code",
   "execution_count": null,
   "metadata": {},
   "outputs": [],
   "source": []
  }
 ],
 "metadata": {
  "kernelspec": {
   "display_name": "base",
   "language": "python",
   "name": "python3"
  },
  "language_info": {
   "codemirror_mode": {
    "name": "ipython",
    "version": 3
   },
   "file_extension": ".py",
   "mimetype": "text/x-python",
   "name": "python",
   "nbconvert_exporter": "python",
   "pygments_lexer": "ipython3",
   "version": "3.9.12"
  }
 },
 "nbformat": 4,
 "nbformat_minor": 2
}
