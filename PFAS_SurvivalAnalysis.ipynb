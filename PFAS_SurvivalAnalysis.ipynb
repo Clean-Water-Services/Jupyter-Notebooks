{
 "cells": [
  {
   "cell_type": "markdown",
   "metadata": {},
   "source": [
    "# Survival Analysis - Handing of Non-Detects"
   ]
  },
  {
   "cell_type": "code",
   "execution_count": 221,
   "metadata": {},
   "outputs": [],
   "source": [
    "import pandas as pd\n",
    "import matplotlib.pyplot as plt\n",
    "import numpy as np\n",
    "import seaborn as sns\n",
    "from statsmodels.distributions.empirical_distribution import ECDF\n",
    "from scipy.stats import norm\n",
    "from scipy import stats\n",
    "from scipy.stats import lognorm\n",
    "from fitter import Fitter\n",
    "from scipy.optimize import minimize"
   ]
  },
  {
   "cell_type": "markdown",
   "metadata": {},
   "source": [
    "## Import PFAS Database"
   ]
  },
  {
   "cell_type": "code",
   "execution_count": 2,
   "metadata": {},
   "outputs": [],
   "source": [
    "def read_excel_sheet(excel_file, sheet_name):\n",
    "    \"\"\"\n",
    "    Read a specific sheet from an Excel file into a DataFrame.\n",
    "\n",
    "    Args:\n",
    "        excel_file (str): The path to the Excel file.\n",
    "        sheet_name (str): The name of the sheet to read.\n",
    "\n",
    "    Returns:\n",
    "        pd.DataFrame or None: A DataFrame containing the sheet data or None if the sheet is not found.\n",
    "    \"\"\"\n",
    "    try:\n",
    "        # Load the specified sheet from the Excel file into a DataFrame\n",
    "        df = pd.read_excel(excel_file, sheet_name=sheet_name, skiprows=1)\n",
    "        return df\n",
    "    except Exception as e:\n",
    "        print(f\"An error occurred: {str(e)}\")\n",
    "        return None\n"
   ]
  },
  {
   "cell_type": "code",
   "execution_count": 3,
   "metadata": {},
   "outputs": [
    {
     "data": {
      "text/html": [
       "<div>\n",
       "<style scoped>\n",
       "    .dataframe tbody tr th:only-of-type {\n",
       "        vertical-align: middle;\n",
       "    }\n",
       "\n",
       "    .dataframe tbody tr th {\n",
       "        vertical-align: top;\n",
       "    }\n",
       "\n",
       "    .dataframe thead th {\n",
       "        text-align: right;\n",
       "    }\n",
       "</style>\n",
       "<table border=\"1\" class=\"dataframe\">\n",
       "  <thead>\n",
       "    <tr style=\"text-align: right;\">\n",
       "      <th></th>\n",
       "      <th>Sampling point Date Component</th>\n",
       "      <th>Sample Number</th>\n",
       "      <th>Sampling Point</th>\n",
       "      <th>Sample Name</th>\n",
       "      <th>Sampled Date</th>\n",
       "      <th>Analysis</th>\n",
       "      <th>Component</th>\n",
       "      <th>Qualifiers</th>\n",
       "      <th>Result</th>\n",
       "      <th>Units</th>\n",
       "      <th>...</th>\n",
       "      <th>ChainLength</th>\n",
       "      <th>Pseudonym</th>\n",
       "      <th>Dominant Contributor</th>\n",
       "      <th>Sector</th>\n",
       "      <th>Depth</th>\n",
       "      <th>Edit Notes</th>\n",
       "      <th>Field</th>\n",
       "      <th>Notes</th>\n",
       "      <th>Region</th>\n",
       "      <th>Crop</th>\n",
       "    </tr>\n",
       "  </thead>\n",
       "  <tbody>\n",
       "    <tr>\n",
       "      <th>0</th>\n",
       "      <td>ANODIZE SOLUTIONS (FPT)-43692.3333333333-10:2F...</td>\n",
       "      <td>259452.0</td>\n",
       "      <td>ANODIZE SOLUTIONS (FPT)</td>\n",
       "      <td>NaN</td>\n",
       "      <td>2019-08-15 08:00:00</td>\n",
       "      <td>PFAS-CL</td>\n",
       "      <td>10:2Fluorotelomersulfonic Acid (Report)</td>\n",
       "      <td>NaN</td>\n",
       "      <td>&lt;9.40</td>\n",
       "      <td>ppt_wt_v</td>\n",
       "      <td>...</td>\n",
       "      <td>12.0</td>\n",
       "      <td>Metal Finisher B</td>\n",
       "      <td>NaN</td>\n",
       "      <td>Metal Finishing</td>\n",
       "      <td>NaN</td>\n",
       "      <td>NaN</td>\n",
       "      <td>NaN</td>\n",
       "      <td>NaN</td>\n",
       "      <td>NaN</td>\n",
       "      <td>NaN</td>\n",
       "    </tr>\n",
       "    <tr>\n",
       "      <th>1</th>\n",
       "      <td>ANODIZE SOLUTIONS (FPT)-43692.3333333333-11Cl-...</td>\n",
       "      <td>259452.0</td>\n",
       "      <td>ANODIZE SOLUTIONS (FPT)</td>\n",
       "      <td>NaN</td>\n",
       "      <td>2019-08-15 08:00:00</td>\n",
       "      <td>PFAS-CL</td>\n",
       "      <td>11Cl-PF3OUdS (Report)</td>\n",
       "      <td>NaN</td>\n",
       "      <td>&lt;4.70</td>\n",
       "      <td>ppt_wt_v</td>\n",
       "      <td>...</td>\n",
       "      <td>10.0</td>\n",
       "      <td>Metal Finisher B</td>\n",
       "      <td>NaN</td>\n",
       "      <td>Metal Finishing</td>\n",
       "      <td>NaN</td>\n",
       "      <td>NaN</td>\n",
       "      <td>NaN</td>\n",
       "      <td>NaN</td>\n",
       "      <td>NaN</td>\n",
       "      <td>NaN</td>\n",
       "    </tr>\n",
       "    <tr>\n",
       "      <th>2</th>\n",
       "      <td>ANODIZE SOLUTIONS (FPT)-43692.3333333333-4:2Fl...</td>\n",
       "      <td>259452.0</td>\n",
       "      <td>ANODIZE SOLUTIONS (FPT)</td>\n",
       "      <td>NaN</td>\n",
       "      <td>2019-08-15 08:00:00</td>\n",
       "      <td>PFAS-CL</td>\n",
       "      <td>4:2Fluorotelomersulfonic Acid (Report)</td>\n",
       "      <td>NaN</td>\n",
       "      <td>&lt;4.70</td>\n",
       "      <td>ppt_wt_v</td>\n",
       "      <td>...</td>\n",
       "      <td>6.0</td>\n",
       "      <td>Metal Finisher B</td>\n",
       "      <td>NaN</td>\n",
       "      <td>Metal Finishing</td>\n",
       "      <td>NaN</td>\n",
       "      <td>NaN</td>\n",
       "      <td>NaN</td>\n",
       "      <td>NaN</td>\n",
       "      <td>NaN</td>\n",
       "      <td>NaN</td>\n",
       "    </tr>\n",
       "    <tr>\n",
       "      <th>3</th>\n",
       "      <td>ANODIZE SOLUTIONS (FPT)-43692.3333333333-6:2Fl...</td>\n",
       "      <td>259452.0</td>\n",
       "      <td>ANODIZE SOLUTIONS (FPT)</td>\n",
       "      <td>NaN</td>\n",
       "      <td>2019-08-15 08:00:00</td>\n",
       "      <td>PFAS-CL</td>\n",
       "      <td>6:2Fluorotelomersulfonic Acid (Report)</td>\n",
       "      <td>NaN</td>\n",
       "      <td>&lt;19.0</td>\n",
       "      <td>ppt_wt_v</td>\n",
       "      <td>...</td>\n",
       "      <td>8.0</td>\n",
       "      <td>Metal Finisher B</td>\n",
       "      <td>NaN</td>\n",
       "      <td>Metal Finishing</td>\n",
       "      <td>NaN</td>\n",
       "      <td>NaN</td>\n",
       "      <td>NaN</td>\n",
       "      <td>NaN</td>\n",
       "      <td>NaN</td>\n",
       "      <td>NaN</td>\n",
       "    </tr>\n",
       "    <tr>\n",
       "      <th>4</th>\n",
       "      <td>ANODIZE SOLUTIONS (FPT)-43692.3333333333-8:2Fl...</td>\n",
       "      <td>259452.0</td>\n",
       "      <td>ANODIZE SOLUTIONS (FPT)</td>\n",
       "      <td>NaN</td>\n",
       "      <td>2019-08-15 08:00:00</td>\n",
       "      <td>PFAS-CL</td>\n",
       "      <td>8:2Fluorotelomersulfonic Acid (Report)</td>\n",
       "      <td>NaN</td>\n",
       "      <td>&lt;9.40</td>\n",
       "      <td>ppt_wt_v</td>\n",
       "      <td>...</td>\n",
       "      <td>10.0</td>\n",
       "      <td>Metal Finisher B</td>\n",
       "      <td>NaN</td>\n",
       "      <td>Metal Finishing</td>\n",
       "      <td>NaN</td>\n",
       "      <td>NaN</td>\n",
       "      <td>NaN</td>\n",
       "      <td>NaN</td>\n",
       "      <td>NaN</td>\n",
       "      <td>NaN</td>\n",
       "    </tr>\n",
       "  </tbody>\n",
       "</table>\n",
       "<p>5 rows × 56 columns</p>\n",
       "</div>"
      ],
      "text/plain": [
       "                       Sampling point Date Component  Sample Number  \\\n",
       "0  ANODIZE SOLUTIONS (FPT)-43692.3333333333-10:2F...       259452.0   \n",
       "1  ANODIZE SOLUTIONS (FPT)-43692.3333333333-11Cl-...       259452.0   \n",
       "2  ANODIZE SOLUTIONS (FPT)-43692.3333333333-4:2Fl...       259452.0   \n",
       "3  ANODIZE SOLUTIONS (FPT)-43692.3333333333-6:2Fl...       259452.0   \n",
       "4  ANODIZE SOLUTIONS (FPT)-43692.3333333333-8:2Fl...       259452.0   \n",
       "\n",
       "            Sampling Point Sample Name         Sampled Date Analysis  \\\n",
       "0  ANODIZE SOLUTIONS (FPT)         NaN  2019-08-15 08:00:00  PFAS-CL   \n",
       "1  ANODIZE SOLUTIONS (FPT)         NaN  2019-08-15 08:00:00  PFAS-CL   \n",
       "2  ANODIZE SOLUTIONS (FPT)         NaN  2019-08-15 08:00:00  PFAS-CL   \n",
       "3  ANODIZE SOLUTIONS (FPT)         NaN  2019-08-15 08:00:00  PFAS-CL   \n",
       "4  ANODIZE SOLUTIONS (FPT)         NaN  2019-08-15 08:00:00  PFAS-CL   \n",
       "\n",
       "                                 Component Qualifiers Result     Units  ...  \\\n",
       "0  10:2Fluorotelomersulfonic Acid (Report)        NaN  <9.40  ppt_wt_v  ...   \n",
       "1                    11Cl-PF3OUdS (Report)        NaN  <4.70  ppt_wt_v  ...   \n",
       "2   4:2Fluorotelomersulfonic Acid (Report)        NaN  <4.70  ppt_wt_v  ...   \n",
       "3   6:2Fluorotelomersulfonic Acid (Report)        NaN  <19.0  ppt_wt_v  ...   \n",
       "4   8:2Fluorotelomersulfonic Acid (Report)        NaN  <9.40  ppt_wt_v  ...   \n",
       "\n",
       "  ChainLength         Pseudonym Dominant Contributor           Sector Depth  \\\n",
       "0        12.0  Metal Finisher B                  NaN  Metal Finishing   NaN   \n",
       "1        10.0  Metal Finisher B                  NaN  Metal Finishing   NaN   \n",
       "2         6.0  Metal Finisher B                  NaN  Metal Finishing   NaN   \n",
       "3         8.0  Metal Finisher B                  NaN  Metal Finishing   NaN   \n",
       "4        10.0  Metal Finisher B                  NaN  Metal Finishing   NaN   \n",
       "\n",
       "  Edit Notes Field Notes Region Crop  \n",
       "0        NaN   NaN   NaN    NaN  NaN  \n",
       "1        NaN   NaN   NaN    NaN  NaN  \n",
       "2        NaN   NaN   NaN    NaN  NaN  \n",
       "3        NaN   NaN   NaN    NaN  NaN  \n",
       "4        NaN   NaN   NaN    NaN  NaN  \n",
       "\n",
       "[5 rows x 56 columns]"
      ]
     },
     "execution_count": 3,
     "metadata": {},
     "output_type": "execute_result"
    }
   ],
   "source": [
    "# Example usage:\n",
    "\n",
    "#Specify where the file is saved use '/' instead of '\\'\n",
    "excel_file_path = 'U:/Research_and_Innovation/_ModellingGroupProjects/PFAS Investigations/Data and analysis/Database as of 12-12-2024.xlsm'\n",
    "#Specify sheet name\n",
    "sheet_name = 'PFAS Database'\n",
    "\n",
    "#Call data import function\n",
    "data_df = read_excel_sheet(excel_file_path, sheet_name)\n",
    "\n",
    "data_df.head()"
   ]
  },
  {
   "cell_type": "markdown",
   "metadata": {},
   "source": [
    "### Prep Data"
   ]
  },
  {
   "cell_type": "code",
   "execution_count": 141,
   "metadata": {},
   "outputs": [],
   "source": [
    "# Define the list of acceptable values\n",
    "acceptable_values = ['Good', 'Probably Ok', 'Probably ok', 'probably ok']\n",
    "\n",
    "# Filter the DataFrame\n",
    "filtered_df = data_df[data_df['Qual Summary (Grade for filtering)'].isin(acceptable_values)]"
   ]
  },
  {
   "cell_type": "code",
   "execution_count": 253,
   "metadata": {},
   "outputs": [],
   "source": [
    "#Case 1\n",
    "# Define the sample location you are interested in\n",
    "sample_location = \"Durham Effluent\"\n",
    "compound = 'Perfluorobutanoic acid'\n",
    "\n",
    "#Case 2\n",
    "sample_location = \"Durham Influent\"\n",
    "compound = 'Perfluoroheptanoic acid'\n",
    "\n",
    "#Case 3\n",
    "#sample_location = \"Durham Influent\"\n",
    "#compound = 'Perfluorohexanoic acid'"
   ]
  },
  {
   "cell_type": "code",
   "execution_count": 254,
   "metadata": {},
   "outputs": [],
   "source": [
    "# Filter the DataFrame for the specified sample location\n",
    "location_data = filtered_df[filtered_df['Sample Location'] == sample_location]\n",
    "\n",
    "# Filter the DataFrame for the specified compound\n",
    "location_compound_data = location_data[location_data['PFAS Compound'] == compound]\n",
    "\n",
    "detected_mask = location_compound_data['Detection Class'] != 'BDL'\n",
    "\n",
    "# Extract the series of values from the 'Quant Only Incl Qual Flags' column\n",
    "quant_values_series = location_compound_data['Quant Only Incl Qual Flags']\n",
    "quantEst_values_series = location_compound_data['Quant Incl Estimates Incl Qual Flags']\n",
    "quant_HalfMDL_values_series = location_compound_data['All (w BDL= MDL/2) Incl Qual Flags']\n",
    "\n",
    "# Separate detected and non-detected values\n",
    "detected_values = quantEst_values_series[detected_mask]\n",
    "non_detected_values = quantEst_values_series[~detected_mask]"
   ]
  },
  {
   "cell_type": "markdown",
   "metadata": {},
   "source": [
    "### Explore Data"
   ]
  },
  {
   "cell_type": "code",
   "execution_count": 217,
   "metadata": {},
   "outputs": [
    {
     "data": {
      "image/png": "[encoded data removed]",
      "text/plain": [
       "<Figure size 864x576 with 1 Axes>"
      ]
     },
     "metadata": {
      "needs_background": "light"
     },
     "output_type": "display_data"
    }
   ],
   "source": [
    "# Plotting the distribution of the PFAS concentrations\n",
    "plt.figure(figsize=(12, 8))\n",
    "# Create a histogram\n",
    "#plt.hist(detected_values, bins=10, alpha=0.7, color='blue', edgecolor='black')\n",
    "plt.hist(detected_values, bins=7, alpha=0.7, color='blue', edgecolor='black')\n",
    "plt.title('Distribution of PFAS Concentrations')\n",
    "plt.xlabel('PFAS Concentration (ng/L)')\n",
    "plt.ylabel('Frequency')\n",
    "plt.grid(True)\n",
    "plt.show()"
   ]
  },
  {
   "cell_type": "code",
   "execution_count": 218,
   "metadata": {},
   "outputs": [
    {
     "data": {
      "text/html": [
       "<div>\n",
       "<style scoped>\n",
       "    .dataframe tbody tr th:only-of-type {\n",
       "        vertical-align: middle;\n",
       "    }\n",
       "\n",
       "    .dataframe tbody tr th {\n",
       "        vertical-align: top;\n",
       "    }\n",
       "\n",
       "    .dataframe thead th {\n",
       "        text-align: right;\n",
       "    }\n",
       "</style>\n",
       "<table border=\"1\" class=\"dataframe\">\n",
       "  <thead>\n",
       "    <tr style=\"text-align: right;\">\n",
       "      <th></th>\n",
       "      <th>sumsquare_error</th>\n",
       "      <th>aic</th>\n",
       "      <th>bic</th>\n",
       "      <th>kl_div</th>\n",
       "      <th>ks_statistic</th>\n",
       "      <th>ks_pvalue</th>\n",
       "    </tr>\n",
       "  </thead>\n",
       "  <tbody>\n",
       "    <tr>\n",
       "      <th>lognorm</th>\n",
       "      <td>0.204616</td>\n",
       "      <td>33.797469</td>\n",
       "      <td>35.492317</td>\n",
       "      <td>inf</td>\n",
       "      <td>0.205461</td>\n",
       "      <td>0.573455</td>\n",
       "    </tr>\n",
       "    <tr>\n",
       "      <th>gamma</th>\n",
       "      <td>0.208797</td>\n",
       "      <td>34.448693</td>\n",
       "      <td>36.143542</td>\n",
       "      <td>inf</td>\n",
       "      <td>0.248020</td>\n",
       "      <td>0.342605</td>\n",
       "    </tr>\n",
       "    <tr>\n",
       "      <th>expon</th>\n",
       "      <td>0.212239</td>\n",
       "      <td>30.991572</td>\n",
       "      <td>32.121471</td>\n",
       "      <td>inf</td>\n",
       "      <td>0.209559</td>\n",
       "      <td>0.548752</td>\n",
       "    </tr>\n",
       "    <tr>\n",
       "      <th>exponpow</th>\n",
       "      <td>0.224761</td>\n",
       "      <td>33.544890</td>\n",
       "      <td>35.239738</td>\n",
       "      <td>inf</td>\n",
       "      <td>0.193014</td>\n",
       "      <td>0.650063</td>\n",
       "    </tr>\n",
       "    <tr>\n",
       "      <th>cauchy</th>\n",
       "      <td>0.228788</td>\n",
       "      <td>38.681341</td>\n",
       "      <td>39.811240</td>\n",
       "      <td>inf</td>\n",
       "      <td>0.254175</td>\n",
       "      <td>0.314770</td>\n",
       "    </tr>\n",
       "  </tbody>\n",
       "</table>\n",
       "</div>"
      ],
      "text/plain": [
       "          sumsquare_error        aic        bic  kl_div  ks_statistic  \\\n",
       "lognorm          0.204616  33.797469  35.492317     inf      0.205461   \n",
       "gamma            0.208797  34.448693  36.143542     inf      0.248020   \n",
       "expon            0.212239  30.991572  32.121471     inf      0.209559   \n",
       "exponpow         0.224761  33.544890  35.239738     inf      0.193014   \n",
       "cauchy           0.228788  38.681341  39.811240     inf      0.254175   \n",
       "\n",
       "          ks_pvalue  \n",
       "lognorm    0.573455  \n",
       "gamma      0.342605  \n",
       "expon      0.548752  \n",
       "exponpow   0.650063  \n",
       "cauchy     0.314770  "
      ]
     },
     "execution_count": 218,
     "metadata": {},
     "output_type": "execute_result"
    },
    {
     "data": {
      "image/png": "[encoded data removed]",
      "text/plain": [
       "<Figure size 432x288 with 1 Axes>"
      ]
     },
     "metadata": {
      "needs_background": "light"
     },
     "output_type": "display_data"
    }
   ],
   "source": [
    "data = detected_values\n",
    "data=quantEst_values_series\n",
    "data=quant_HalfMDL_values_series\n",
    "\n",
    "# Fitting multiple distributions to find the best fit\n",
    "f = Fitter(data,bins=7, distributions=['norm', 'lognorm', 'expon', 'gamma', 'beta','cauchy', 'chi2','exponpow','powerlaw','rayleigh','uniform'])\n",
    "f.fit()\n",
    "f.summary()\n"
   ]
  },
  {
   "cell_type": "code",
   "execution_count": 219,
   "metadata": {},
   "outputs": [
    {
     "data": {
      "text/plain": [
       "{'lognorm': {'s': 0.9047071024886405,\n",
       "  'loc': 4.742453733688747,\n",
       "  'scale': 1.6680365108064432}}"
      ]
     },
     "execution_count": 219,
     "metadata": {},
     "output_type": "execute_result"
    }
   ],
   "source": [
    "f.get_best(method = 'sumsquare_error')"
   ]
  },
  {
   "cell_type": "markdown",
   "metadata": {},
   "source": [
    "## Estimating Central Tendencies (Mean and Standard Deviation)"
   ]
  },
  {
   "cell_type": "markdown",
   "metadata": {},
   "source": [
    "### Quant and Estimates (BDL=0)"
   ]
  },
  {
   "cell_type": "code",
   "execution_count": 220,
   "metadata": {},
   "outputs": [
    {
     "name": "stdout",
     "output_type": "stream",
     "text": [
      "Mean = 5.615384615384615\n",
      "Median = 6.0\n",
      "Std = 2.9506626808922527\n"
     ]
    }
   ],
   "source": [
    "mean=quantEst_values_series.mean()\n",
    "std=quantEst_values_series.std()\n",
    "median=quantEst_values_series.median()\n",
    "print('Mean =',mean)\n",
    "print('Median =',median)\n",
    "print('Std =',std)\n"
   ]
  },
  {
   "cell_type": "code",
   "execution_count": 186,
   "metadata": {},
   "outputs": [
    {
     "data": {
      "text/plain": [
       "500       8.1\n",
       "1044      7.7\n",
       "1760      8.4\n",
       "2804     13.0\n",
       "3272     10.0\n",
       "4532      9.8\n",
       "4928      0.0\n",
       "7124      4.6\n",
       "10979     8.5\n",
       "14014     5.7\n",
       "15981     0.0\n",
       "21905     0.0\n",
       "23691     7.1\n",
       "23729     1.8\n",
       "27867     5.8\n",
       "Name: Quant Incl Estimates Incl Qual Flags, dtype: float64"
      ]
     },
     "execution_count": 186,
     "metadata": {},
     "output_type": "execute_result"
    }
   ],
   "source": [
    "quantEst_values_series"
   ]
  },
  {
   "cell_type": "markdown",
   "metadata": {},
   "source": [
    "### Quant and Estimates (No 0s)"
   ]
  },
  {
   "cell_type": "code",
   "execution_count": 187,
   "metadata": {},
   "outputs": [
    {
     "name": "stdout",
     "output_type": "stream",
     "text": [
      "Mean = 7.541666666666665\n",
      "Median = 7.9\n",
      "Std = 2.878907094820196\n"
     ]
    }
   ],
   "source": [
    "mean=quantEst_values_series[quantEst_values_series>0].mean()\n",
    "std=quantEst_values_series[quantEst_values_series>0].std()\n",
    "median=quantEst_values_series[quantEst_values_series>0].median()\n",
    "print('Mean =',mean)\n",
    "print('Median =',median)\n",
    "print('Std =',std)"
   ]
  },
  {
   "cell_type": "code",
   "execution_count": 188,
   "metadata": {},
   "outputs": [
    {
     "data": {
      "text/plain": [
       "500       8.1\n",
       "1044      7.7\n",
       "1760      8.4\n",
       "2804     13.0\n",
       "3272     10.0\n",
       "4532      9.8\n",
       "7124      4.6\n",
       "10979     8.5\n",
       "14014     5.7\n",
       "23691     7.1\n",
       "23729     1.8\n",
       "27867     5.8\n",
       "Name: Quant Incl Estimates Incl Qual Flags, dtype: float64"
      ]
     },
     "execution_count": 188,
     "metadata": {},
     "output_type": "execute_result"
    }
   ],
   "source": [
    "quantEst_values_series[quantEst_values_series>0]"
   ]
  },
  {
   "cell_type": "markdown",
   "metadata": {},
   "source": [
    "### Quants only (Nondetects = 0)"
   ]
  },
  {
   "cell_type": "code",
   "execution_count": 189,
   "metadata": {},
   "outputs": [
    {
     "name": "stdout",
     "output_type": "stream",
     "text": [
      "Mean = 1.2866666666666666\n",
      "Median = 7.1\n",
      "Std = 2.4439039806560867\n"
     ]
    }
   ],
   "source": [
    "mean=quant_values_series.mean()\n",
    "std=quant_values_series.std()\n",
    "median=quantEst_values_series.median()\n",
    "print('Mean =',mean)\n",
    "print('Median =',median)\n",
    "print('Std =',std)"
   ]
  },
  {
   "cell_type": "code",
   "execution_count": 190,
   "metadata": {},
   "outputs": [
    {
     "data": {
      "text/plain": [
       "500      0.0\n",
       "1044     0.0\n",
       "1760     0.0\n",
       "2804     0.0\n",
       "3272     0.0\n",
       "4532     0.0\n",
       "4928     0.0\n",
       "7124     4.6\n",
       "10979    0.0\n",
       "14014    0.0\n",
       "15981    0.0\n",
       "21905    0.0\n",
       "23691    7.1\n",
       "23729    1.8\n",
       "27867    5.8\n",
       "Name: Quant Only Incl Qual Flags, dtype: float64"
      ]
     },
     "execution_count": 190,
     "metadata": {},
     "output_type": "execute_result"
    }
   ],
   "source": [
    "quant_values_series"
   ]
  },
  {
   "cell_type": "markdown",
   "metadata": {},
   "source": [
    "### Quants and Non-Detects = 1/2 MDL"
   ]
  },
  {
   "cell_type": "code",
   "execution_count": 191,
   "metadata": {},
   "outputs": [
    {
     "name": "stdout",
     "output_type": "stream",
     "text": [
      "Mean = 6.83\n",
      "Median = 7.1\n",
      "Std = 2.9905685078258952\n"
     ]
    }
   ],
   "source": [
    "mean=quant_HalfMDL_values_series.mean()\n",
    "std=quant_HalfMDL_values_series.std()\n",
    "median=quantEst_values_series.median()\n",
    "print('Mean =',mean)\n",
    "print('Median =',median)\n",
    "print('Std =',std)"
   ]
  },
  {
   "cell_type": "code",
   "execution_count": 192,
   "metadata": {},
   "outputs": [
    {
     "data": {
      "text/plain": [
       "500       8.10\n",
       "1044      7.70\n",
       "1760      8.40\n",
       "2804     13.00\n",
       "3272     10.00\n",
       "4532      9.80\n",
       "4928      2.45\n",
       "7124      4.60\n",
       "10979     8.50\n",
       "14014     5.70\n",
       "15981     4.50\n",
       "21905     5.00\n",
       "23691     7.10\n",
       "23729     1.80\n",
       "27867     5.80\n",
       "Name: All (w BDL= MDL/2) Incl Qual Flags, dtype: float64"
      ]
     },
     "execution_count": 192,
     "metadata": {},
     "output_type": "execute_result"
    }
   ],
   "source": [
    "quant_HalfMDL_values_series"
   ]
  },
  {
   "cell_type": "markdown",
   "metadata": {},
   "source": [
    "### Quant and Est, Non detects = MDL"
   ]
  },
  {
   "cell_type": "code",
   "execution_count": 193,
   "metadata": {},
   "outputs": [
    {
     "data": {
      "text/plain": [
       "500       8.1\n",
       "1044      7.7\n",
       "1760      8.4\n",
       "2804     13.0\n",
       "3272     10.0\n",
       "4532      9.8\n",
       "4928      4.9\n",
       "7124      4.6\n",
       "10979     8.5\n",
       "14014     5.7\n",
       "15981     9.0\n",
       "21905    10.0\n",
       "23691     7.1\n",
       "23729     1.8\n",
       "27867     5.8\n",
       "Name: Quant Incl Estimates Incl Qual Flags, dtype: float64"
      ]
     },
     "execution_count": 193,
     "metadata": {},
     "output_type": "execute_result"
    }
   ],
   "source": [
    "data = quantEst_values_series.copy()\n",
    "censored =~detected_mask\n",
    "data[censored] = location_compound_data['MDL'][censored]\n",
    "data"
   ]
  },
  {
   "cell_type": "code",
   "execution_count": 194,
   "metadata": {},
   "outputs": [
    {
     "name": "stdout",
     "output_type": "stream",
     "text": [
      "Mean = 7.626666666666666\n",
      "Median = 8.1\n",
      "Std = 2.7543385689455375\n"
     ]
    }
   ],
   "source": [
    "mean=data.mean()\n",
    "std=data.std()\n",
    "median=data.median()\n",
    "print('Mean =',mean)\n",
    "print('Median =',median)\n",
    "print('Std =',std)"
   ]
  },
  {
   "cell_type": "markdown",
   "metadata": {},
   "source": [
    "### Quant and Estimates and Imputing Non-Detects using Regression on Order Statistics (ROS)"
   ]
  },
  {
   "cell_type": "markdown",
   "metadata": {},
   "source": [
    "#### Log-Normal distribution"
   ]
  },
  {
   "cell_type": "code",
   "execution_count": 195,
   "metadata": {},
   "outputs": [
    {
     "name": "stdout",
     "output_type": "stream",
     "text": [
      "Mean Concentration: 7.725989318850858\n",
      "Median Concentration: 8.4\n",
      "Standard Deviation: 2.5802499473771854\n"
     ]
    }
   ],
   "source": [
    "# Fit a log-normal distribution to detects (log-transform detects to fit normal)\n",
    "log_detects = np.log(detected_values)\n",
    "mu, sigma = norm.fit(log_detects)\n",
    "\n",
    "# Impute non-detects using ROS\n",
    "ranks = non_detected_values.rank(pct=True)  # Get percentile ranks of non-detects\n",
    "imputed_values = np.exp(norm.ppf(ranks, loc=mu, scale=sigma))  # Convert percentiles to values\n",
    "\n",
    "# Replace non-detected values in the original series with imputed values\n",
    "values=quantEst_values_series.copy()\n",
    "values.loc[non_detected_values.index] = imputed_values\n",
    "\n",
    "# Now you can compute statistics on the fully imputed dataset\n",
    "mean_concentration = values.mean()\n",
    "std_concentration = values.std()\n",
    "median_concentration=values.median()\n",
    "\n",
    "print(\"Mean Concentration:\", mean_concentration)\n",
    "print(\"Median Concentration:\", median_concentration)\n",
    "print(\"Standard Deviation:\", std_concentration)"
   ]
  },
  {
   "cell_type": "code",
   "execution_count": 196,
   "metadata": {},
   "outputs": [
    {
     "data": {
      "text/plain": [
       "500       8.10000\n",
       "1044      7.70000\n",
       "1760      8.40000\n",
       "2804     13.00000\n",
       "3272     10.00000\n",
       "4532      9.80000\n",
       "4928      8.46328\n",
       "7124      4.60000\n",
       "10979     8.50000\n",
       "14014     5.70000\n",
       "15981     8.46328\n",
       "21905     8.46328\n",
       "23691     7.10000\n",
       "23729     1.80000\n",
       "27867     5.80000\n",
       "Name: Quant Incl Estimates Incl Qual Flags, dtype: float64"
      ]
     },
     "execution_count": 196,
     "metadata": {},
     "output_type": "execute_result"
    }
   ],
   "source": [
    "values"
   ]
  },
  {
   "cell_type": "markdown",
   "metadata": {},
   "source": [
    "#### Normal Distribution"
   ]
  },
  {
   "cell_type": "code",
   "execution_count": 197,
   "metadata": {},
   "outputs": [
    {
     "name": "stdout",
     "output_type": "stream",
     "text": [
      "Mean Concentration: 7.304220171678242\n",
      "Median Concentration: 7.1\n",
      "Standard Deviation: 2.598791160542641\n"
     ]
    }
   ],
   "source": [
    "# Fit a normal distribution to detected values\n",
    "mu, sigma = norm.fit(detected_values)\n",
    "\n",
    "# Impute non-detects using ROS\n",
    "ranks = non_detected_values.rank(pct=True, method='min')  # Adjust ranking method if necessary\n",
    "imputed_values = norm.ppf(ranks, loc=mu, scale=sigma)  # Convert percentiles to values\n",
    "\n",
    "# Replace non-detected values in the original series with imputed values\n",
    "values=quantEst_values_series.copy()\n",
    "values.loc[non_detected_values.index] = imputed_values\n",
    "\n",
    "# Now you can compute statistics on the imputed dataset\n",
    "mean_concentration = values.mean()\n",
    "std_concentration = values.std()\n",
    "median_concentration=values.median()\n",
    "\n",
    "print(\"Mean Concentration:\", mean_concentration)\n",
    "print(\"Median Concentration:\", median_concentration)\n",
    "print(\"Standard Deviation:\", std_concentration)"
   ]
  },
  {
   "cell_type": "code",
   "execution_count": 198,
   "metadata": {},
   "outputs": [
    {
     "data": {
      "text/plain": [
       "500       8.100000\n",
       "1044      7.700000\n",
       "1760      8.400000\n",
       "2804     13.000000\n",
       "3272     10.000000\n",
       "4532      9.800000\n",
       "4928      6.354434\n",
       "7124      4.600000\n",
       "10979     8.500000\n",
       "14014     5.700000\n",
       "15981     6.354434\n",
       "21905     6.354434\n",
       "23691     7.100000\n",
       "23729     1.800000\n",
       "27867     5.800000\n",
       "Name: Quant Incl Estimates Incl Qual Flags, dtype: float64"
      ]
     },
     "execution_count": 198,
     "metadata": {},
     "output_type": "execute_result"
    }
   ],
   "source": [
    "values"
   ]
  },
  {
   "cell_type": "markdown",
   "metadata": {},
   "source": [
    "Assumes a normal distribution.  Since the normal distribution is not bounded, the imputation might result in negative values"
   ]
  },
  {
   "cell_type": "markdown",
   "metadata": {},
   "source": [
    "#### Cumulative distribution function"
   ]
  },
  {
   "cell_type": "code",
   "execution_count": 199,
   "metadata": {},
   "outputs": [
    {
     "name": "stdout",
     "output_type": "stream",
     "text": [
      "Mean Concentration: 6.033333333333332\n",
      "Median Concentration: 8.4\n",
      "Standard Deviation: 4.032664249894969\n"
     ]
    }
   ],
   "source": [
    "# Calculate the ECDF for detected values\n",
    "ecdf = stats.rankdata(detected_values, method='average') / len(detected_values)\n",
    "\n",
    "# Assign non-detects a value based on their rank percentile\n",
    "# Ranks for non-detects\n",
    "non_detected_ranks = non_detected_values.rank(pct=True, method='average')\n",
    "# Use linear interpolation to assign values based on the ECDF\n",
    "imputed_values = np.interp(non_detected_ranks, np.linspace(0, 1, len(detected_values)), np.sort(detected_values))\n",
    "\n",
    "# Replace non-detected values in the original series with imputed values\n",
    "values=quantEst_values_series.copy()\n",
    "values.loc[non_detected_values.index] = imputed_values\n",
    "\n",
    "# Now you can compute statistics on the fully imputed dataset\n",
    "mean_concentration = quantEst_values_series.mean()\n",
    "std_concentration = quantEst_values_series.std()\n",
    "median_concentration=values.median()\n",
    "\n",
    "print(\"Mean Concentration:\", mean_concentration)\n",
    "print(\"Median Concentration:\", median_concentration)\n",
    "print(\"Standard Deviation:\", std_concentration)"
   ]
  },
  {
   "cell_type": "code",
   "execution_count": 200,
   "metadata": {},
   "outputs": [
    {
     "data": {
      "text/plain": [
       "500       8.100000\n",
       "1044      7.700000\n",
       "1760      8.400000\n",
       "2804     13.000000\n",
       "3272     10.000000\n",
       "4532      9.800000\n",
       "4928      8.433333\n",
       "7124      4.600000\n",
       "10979     8.500000\n",
       "14014     5.700000\n",
       "15981     8.433333\n",
       "21905     8.433333\n",
       "23691     7.100000\n",
       "23729     1.800000\n",
       "27867     5.800000\n",
       "Name: Quant Incl Estimates Incl Qual Flags, dtype: float64"
      ]
     },
     "execution_count": 200,
     "metadata": {},
     "output_type": "execute_result"
    }
   ],
   "source": [
    "values"
   ]
  },
  {
   "cell_type": "markdown",
   "metadata": {},
   "source": [
    "Non-Parametric: This method is suitable for data without a clear distributional assumption."
   ]
  },
  {
   "cell_type": "markdown",
   "metadata": {},
   "source": [
    "#### ROS with Exponential Distribution"
   ]
  },
  {
   "cell_type": "code",
   "execution_count": 201,
   "metadata": {},
   "outputs": [
    {
     "name": "stdout",
     "output_type": "stream",
     "text": [
      "Mean Concentration: 7.765186905383518\n",
      "Median Concentration: 8.4\n",
      "Standard Deviation: 2.5934924673336446\n"
     ]
    }
   ],
   "source": [
    "from scipy.stats import expon\n",
    "# Fit a normal distribution to detected values\n",
    "mu, sigma = norm.fit(detected_values)\n",
    "\n",
    "# Impute non-detects using ROS\n",
    "ranks = non_detected_values.rank(pct=True, method='min')  # Adjust ranking method if necessary\n",
    "imputed_values = expon.ppf(ranks, loc=mu, scale=sigma)  # Convert percentiles to values\n",
    "\n",
    "# Replace non-detected values in the original series with imputed values\n",
    "values=quantEst_values_series.copy()\n",
    "values.loc[non_detected_values.index] = imputed_values\n",
    "\n",
    "# Now you can compute statistics on the imputed dataset\n",
    "mean_concentration = values.mean()\n",
    "std_concentration = values.std()\n",
    "median_concentration=values.median()\n",
    "\n",
    "print(\"Mean Concentration:\", mean_concentration)\n",
    "print(\"Median Concentration:\", median_concentration)\n",
    "print(\"Standard Deviation:\", std_concentration)"
   ]
  },
  {
   "cell_type": "code",
   "execution_count": 202,
   "metadata": {},
   "outputs": [
    {
     "data": {
      "text/plain": [
       "500       8.100000\n",
       "1044      7.700000\n",
       "1760      8.400000\n",
       "2804     13.000000\n",
       "3272     10.000000\n",
       "4532      9.800000\n",
       "4928      8.659268\n",
       "7124      4.600000\n",
       "10979     8.500000\n",
       "14014     5.700000\n",
       "15981     8.659268\n",
       "21905     8.659268\n",
       "23691     7.100000\n",
       "23729     1.800000\n",
       "27867     5.800000\n",
       "Name: Quant Incl Estimates Incl Qual Flags, dtype: float64"
      ]
     },
     "execution_count": 202,
     "metadata": {},
     "output_type": "execute_result"
    }
   ],
   "source": [
    "values"
   ]
  },
  {
   "cell_type": "markdown",
   "metadata": {},
   "source": [
    "### Maximum Likelihood Estimation"
   ]
  },
  {
   "cell_type": "markdown",
   "metadata": {},
   "source": [
    "#### Log-normal, 0 are omitted"
   ]
  },
  {
   "cell_type": "code",
   "execution_count": 203,
   "metadata": {},
   "outputs": [
    {
     "name": "stdout",
     "output_type": "stream",
     "text": [
      "Mean of original data: 7.72475651082471\n",
      "Median of original data: 6.86862136715563\n",
      "Standard deviation of original data: 3.9752486524787214\n"
     ]
    }
   ],
   "source": [
    "# We filter out the zeros for the MLE as they represent non-detects which are treated as censored below the detection limit\n",
    "data_filtered = quantEst_values_series[quantEst_values_series > 0]\n",
    "\n",
    "# Log-transform the data\n",
    "log_data = np.log(data_filtered)\n",
    "\n",
    "# Use MLE to estimate the parameters of the log-normal distribution\n",
    "shape, loc, scale = lognorm.fit(data_filtered, floc=0)  # Forcing location parameter to zero for a standard log-normal\n",
    "\n",
    "# Estimated parameters\n",
    "mu = np.log(scale)  # Mean of log-transformed data\n",
    "sigma = shape  # Standard deviation of log-transformed data\n",
    "\n",
    "# Calculate the mean of the original log-normal distribution\n",
    "original_mean = np.exp(mu + (sigma**2 / 2))\n",
    "\n",
    "# Calculate the standard deviation of the original log-normal distribution\n",
    "original_std = np.sqrt((np.exp(sigma**2) - 1) * np.exp(2 * mu + sigma**2))\n",
    "\n",
    "# Calculate median of the original log-normal distribution\n",
    "original_median = np.exp(mu)\n",
    "\n",
    "print(\"Mean of original data:\", original_mean)\n",
    "print(\"Median of original data:\", original_median)\n",
    "print(\"Standard deviation of original data:\", original_std)"
   ]
  },
  {
   "cell_type": "code",
   "execution_count": 204,
   "metadata": {},
   "outputs": [
    {
     "data": {
      "image/png": "[encoded data removed]",
      "text/plain": [
       "<Figure size 432x432 with 1 Axes>"
      ]
     },
     "metadata": {
      "needs_background": "light"
     },
     "output_type": "display_data"
    }
   ],
   "source": [
    "# Assuming `log_data` is your log-transformed data\n",
    "data_filtered = quantEst_values_series[quantEst_values_series > 0]\n",
    "log_data = np.log(data_filtered)\n",
    "\n",
    "# Generate a Q-Q plot\n",
    "fig, ax = plt.subplots(figsize=(6, 6))\n",
    "stats.probplot(log_data, dist=\"lognorm\", sparams=(shape, scale), plot=ax)\n",
    "ax.set_title('Q-Q plot of data against the log-normal distribution')\n",
    "plt.show()"
   ]
  },
  {
   "cell_type": "code",
   "execution_count": 205,
   "metadata": {},
   "outputs": [
    {
     "name": "stdout",
     "output_type": "stream",
     "text": [
      "K-S statistic: 0.9789351707030193\n",
      "p-value: 1.5266002342725838e-20\n"
     ]
    }
   ],
   "source": [
    "# Compute the K-S test\n",
    "D, p_value = stats.kstest(log_data, 'lognorm', args=(shape, 0, scale))\n",
    "\n",
    "print(f\"K-S statistic: {D}\")\n",
    "print(f\"p-value: {p_value}\")\n",
    "#Note: A high p-value (typically >0.05) suggests that your data do not significantly differ from the log-normal distribution."
   ]
  },
  {
   "cell_type": "markdown",
   "metadata": {},
   "source": [
    "#### Log-normal 1/2 MDL"
   ]
  },
  {
   "cell_type": "code",
   "execution_count": 206,
   "metadata": {},
   "outputs": [
    {
     "name": "stdout",
     "output_type": "stream",
     "text": [
      "Mean of original data: 6.963096721729985\n",
      "Median of original data: 6.103593025252765\n",
      "Standard deviation of original data: 3.8231692447979255\n"
     ]
    }
   ],
   "source": [
    "# Log-transform the data\n",
    "log_data = np.log(quant_HalfMDL_values_series)\n",
    "\n",
    "# Use MLE to estimate the parameters of the log-normal distribution\n",
    "shape, loc, scale = lognorm.fit(quant_HalfMDL_values_series, floc=0)  # Forcing location parameter to zero for a standard log-normal\n",
    "\n",
    "# Estimated parameters\n",
    "mu = np.log(scale)  # Mean of log-transformed data\n",
    "sigma = shape  # Standard deviation of log-transformed data\n",
    "\n",
    "# Calculate the mean of the original log-normal distribution\n",
    "original_mean = np.exp(mu + (sigma**2 / 2))\n",
    "\n",
    "# Calculate the standard deviation of the original log-normal distribution\n",
    "original_std = np.sqrt((np.exp(sigma**2) - 1) * np.exp(2 * mu + sigma**2))\n",
    "\n",
    "# Calculate median of the original log-normal distribution\n",
    "original_median = np.exp(mu)\n",
    "\n",
    "print(\"Mean of original data:\", original_mean)\n",
    "print(\"Median of original data:\", original_median)\n",
    "print(\"Standard deviation of original data:\", original_std)"
   ]
  },
  {
   "cell_type": "code",
   "execution_count": 207,
   "metadata": {},
   "outputs": [
    {
     "data": {
      "image/png": "[encoded data removed]",
      "text/plain": [
       "<Figure size 432x432 with 1 Axes>"
      ]
     },
     "metadata": {
      "needs_background": "light"
     },
     "output_type": "display_data"
    }
   ],
   "source": [
    "# Generate a Q-Q plot\n",
    "fig, ax = plt.subplots(figsize=(6, 6))\n",
    "stats.probplot(log_data, dist=\"lognorm\", sparams=(shape, scale), plot=ax)\n",
    "ax.set_title('Q-Q plot of data against the log-normal distribution')\n",
    "plt.show()"
   ]
  },
  {
   "cell_type": "code",
   "execution_count": 208,
   "metadata": {},
   "outputs": [
    {
     "name": "stdout",
     "output_type": "stream",
     "text": [
      "K-S statistic: 0.9543805886610206\n",
      "p-value: 1.5426775163391053e-20\n"
     ]
    }
   ],
   "source": [
    "# Compute the K-S test\n",
    "D, p_value = stats.kstest(log_data, 'lognorm', args=(shape, 0, scale))\n",
    "\n",
    "print(f\"K-S statistic: {D}\")\n",
    "print(f\"p-value: {p_value}\")\n",
    "#Note: A high p-value (typically >0.05) suggests that your data do not significantly differ from the log-normal distribution."
   ]
  },
  {
   "cell_type": "markdown",
   "metadata": {},
   "source": [
    "#### MLE, exponential, 1/2 MDL"
   ]
  },
  {
   "cell_type": "code",
   "execution_count": 209,
   "metadata": {},
   "outputs": [
    {
     "name": "stdout",
     "output_type": "stream",
     "text": [
      "Mean of imputed data: 6.83\n",
      "Median of imputed data: 4.734195243224426\n",
      "Standard deviation of imputed data: 6.83\n"
     ]
    }
   ],
   "source": [
    "# Impute non-detects with half the MDL\n",
    "quant_HalfMDL_values_series = quantEst_values_series.copy()\n",
    "non_detected_mask = ~detected_mask\n",
    "quant_HalfMDL_values_series[non_detected_mask] = location_compound_data['MDL'][non_detected_mask] / 2\n",
    "\n",
    "# Fit an exponential distribution to the imputed data\n",
    "loc, scale = expon.fit(quant_HalfMDL_values_series, floc=0)  # Assuming the location parameter is zero\n",
    "\n",
    "# Calculate the mean, standard deviation, and median from the exponential distribution\n",
    "mean_exponential = scale  # Mean of the exponential distribution is the scale parameter\n",
    "std_exponential = scale   # Standard deviation of the exponential distribution is also the scale parameter\n",
    "median_exponential = np.log(2) * scale  # Median of the exponential distribution\n",
    "\n",
    "print(\"Mean of imputed data:\", mean_exponential)\n",
    "print(\"Median of imputed data:\", median_exponential)\n",
    "print(\"Standard deviation of imputed data:\", std_exponential)\n"
   ]
  },
  {
   "cell_type": "code",
   "execution_count": 210,
   "metadata": {},
   "outputs": [
    {
     "data": {
      "image/png": "[encoded data removed]",
      "text/plain": [
       "<Figure size 432x432 with 1 Axes>"
      ]
     },
     "metadata": {
      "needs_background": "light"
     },
     "output_type": "display_data"
    }
   ],
   "source": [
    "# Generate Q-Q plot for the exponential distribution\n",
    "fig, ax = plt.subplots(figsize=(6, 6))\n",
    "stats.probplot(quant_HalfMDL_values_series, dist=\"expon\", sparams=(loc, scale), plot=ax)\n",
    "ax.set_title('Q-Q Plot for Exponential Distribution')\n",
    "ax.set_xlabel('Theoretical Quantiles')\n",
    "ax.set_ylabel('Sample Quantiles')\n",
    "\n",
    "plt.show()"
   ]
  },
  {
   "cell_type": "code",
   "execution_count": 211,
   "metadata": {},
   "outputs": [
    {
     "name": "stdout",
     "output_type": "stream",
     "text": [
      "K-S statistic: 0.30883715318777094\n",
      "p-value: 0.0908918342542866\n"
     ]
    }
   ],
   "source": [
    "# Compute the K-S test\n",
    "D, p_value = stats.kstest(quant_HalfMDL_values_series, 'expon', args=(shape, scale))\n",
    "\n",
    "print(f\"K-S statistic: {D}\")\n",
    "print(f\"p-value: {p_value}\")\n",
    "#Note: A high p-value (typically >0.05) suggests that your data do not significantly differ from the log-normal distribution."
   ]
  },
  {
   "cell_type": "markdown",
   "metadata": {},
   "source": [
    "#### MLE, normal, 1/2 MDL"
   ]
  },
  {
   "cell_type": "code",
   "execution_count": 212,
   "metadata": {},
   "outputs": [
    {
     "name": "stdout",
     "output_type": "stream",
     "text": [
      "Mean of imputed data: 6.83\n",
      "Median of imputed data: 6.83\n",
      "Standard deviation of imputed data: 2.889163662146308\n"
     ]
    }
   ],
   "source": [
    "from scipy.stats import norm\n",
    "import numpy as np\n",
    "\n",
    "# Impute non-detects with half the MDL\n",
    "quant_HalfMDL_values_series = quantEst_values_series.copy()\n",
    "non_detected_mask = ~detected_mask\n",
    "quant_HalfMDL_values_series[non_detected_mask] = location_compound_data['MDL'][non_detected_mask] / 2\n",
    "\n",
    "# Fit a normal distribution to the imputed data\n",
    "mean_normal, std_normal = norm.fit(quant_HalfMDL_values_series)\n",
    "\n",
    "# Calculate mean, standard deviation, and median from the normal distribution\n",
    "mean_imputed = mean_normal\n",
    "std_imputed = std_normal\n",
    "median_imputed = mean_normal  # Median of a normal distribution is its mean\n",
    "\n",
    "print(\"Mean of imputed data:\", mean_imputed)\n",
    "print(\"Median of imputed data:\", median_imputed)\n",
    "print(\"Standard deviation of imputed data:\", std_imputed)\n"
   ]
  },
  {
   "cell_type": "code",
   "execution_count": 213,
   "metadata": {},
   "outputs": [
    {
     "data": {
      "image/png": "[encoded data removed]",
      "text/plain": [
       "<Figure size 432x432 with 1 Axes>"
      ]
     },
     "metadata": {
      "needs_background": "light"
     },
     "output_type": "display_data"
    }
   ],
   "source": [
    "# Generate Q-Q plot for the exponential distribution\n",
    "fig, ax = plt.subplots(figsize=(6, 6))\n",
    "stats.probplot(quant_HalfMDL_values_series, dist=\"norm\", sparams=(loc, scale), plot=ax)\n",
    "ax.set_title('Q-Q Plot for Exponential Distribution')\n",
    "ax.set_xlabel('Theoretical Quantiles')\n",
    "ax.set_ylabel('Sample Quantiles')\n",
    "\n",
    "plt.show()"
   ]
  },
  {
   "cell_type": "code",
   "execution_count": 214,
   "metadata": {},
   "outputs": [
    {
     "name": "stdout",
     "output_type": "stream",
     "text": [
      "K-S statistic: 0.30883715318777094\n",
      "p-value: 0.0908918342542866\n"
     ]
    }
   ],
   "source": [
    "# Compute the K-S test\n",
    "D, p_value = stats.kstest(quant_HalfMDL_values_series, 'expon', args=(shape, scale))\n",
    "\n",
    "print(f\"K-S statistic: {D}\")\n",
    "print(f\"p-value: {p_value}\")\n",
    "#Note: A high p-value (typically >0.05) suggests that your data do not significantly differ from the log-normal distribution."
   ]
  },
  {
   "cell_type": "markdown",
   "metadata": {},
   "source": [
    "#### MLE, Non-Detects as Censored data, normal"
   ]
  },
  {
   "cell_type": "code",
   "execution_count": 255,
   "metadata": {},
   "outputs": [
    {
     "name": "stdout",
     "output_type": "stream",
     "text": [
      "Fitted Mean (μ): 2.5280277262394946\n",
      "Fitted Standard Deviation (σ): 1.1643531482448006\n",
      "Median (MLE): 2.5280277262394946\n"
     ]
    }
   ],
   "source": [
    "# Observed data\n",
    "detected_values = quantEst_values_series[detected_mask]\n",
    "non_detect_values = location_compound_data['MDL'][~detected_mask]\n",
    "\n",
    "# Define the negative log-likelihood function for censored data\n",
    "def neg_log_likelihood(params):\n",
    "    mu, sigma = params\n",
    "    if sigma <= 0:  # Standard deviation must be positive\n",
    "        return np.inf\n",
    "    \n",
    "    # Likelihood for detected values (PDF of normal distribution)\n",
    "    log_likelihood_detected = np.sum(norm.logpdf(detected_values, loc=mu, scale=sigma))\n",
    "    \n",
    "    # Likelihood for censored values (CDF of normal distribution)\n",
    "    log_likelihood_non_detect = np.sum(np.log(norm.cdf(non_detect_values, loc=mu, scale=sigma)))\n",
    "    \n",
    "    # Total negative log-likelihood\n",
    "    return -(log_likelihood_detected + log_likelihood_non_detect)\n",
    "\n",
    "# Initial guesses for mu and sigma\n",
    "initial_guess = [np.mean(detected_values), np.std(detected_values)]\n",
    "\n",
    "# Optimize the negative log-likelihood\n",
    "result = minimize(neg_log_likelihood, initial_guess, method='L-BFGS-B', bounds=[(None, None), (1e-6, None)])\n",
    "\n",
    "# Extract fitted parameters\n",
    "mu_mle, sigma_mle = result.x\n",
    "\n",
    "# Print the results\n",
    "print(\"Fitted Mean (μ):\", mu_mle)\n",
    "print(\"Fitted Standard Deviation (σ):\", sigma_mle)\n",
    "\n",
    "# Optional: Calculate other statistics\n",
    "median_mle = mu_mle  # Median for a normal distribution\n",
    "print(\"Median (MLE):\", median_mle)\n"
   ]
  },
  {
   "cell_type": "code",
   "execution_count": 256,
   "metadata": {},
   "outputs": [
    {
     "data": {
      "image/png": "[encoded data removed]",
      "text/plain": [
       "<Figure size 576x432 with 1 Axes>"
      ]
     },
     "metadata": {
      "needs_background": "light"
     },
     "output_type": "display_data"
    },
    {
     "name": "stdout",
     "output_type": "stream",
     "text": [
      "K-S Statistic: 0.6517081243711935\n",
      "P-Value: 9.301715592178423e-07\n",
      "The data does not fit the normal distribution (reject H0).\n"
     ]
    }
   ],
   "source": [
    "import matplotlib.pyplot as plt\n",
    "from scipy.stats import norm, kstest\n",
    "\n",
    "# Q-Q Plot\n",
    "def plot_qq(data, mu, sigma):\n",
    "    sorted_data = np.sort(data)\n",
    "    theoretical_quantiles = norm.ppf(np.linspace(0.01, 0.99, len(sorted_data)), loc=mu, scale=sigma)\n",
    "    plt.figure(figsize=(8, 6))\n",
    "    plt.scatter(theoretical_quantiles, sorted_data, label=\"Data vs. Normal\", alpha=0.6)\n",
    "    plt.plot(theoretical_quantiles, theoretical_quantiles, color='red', linestyle='--', label=\"Reference Line\")\n",
    "    plt.xlabel(\"Theoretical Quantiles\")\n",
    "    plt.ylabel(\"Sample Quantiles\")\n",
    "    plt.title(\"Q-Q Plot\")\n",
    "    plt.legend()\n",
    "    plt.grid()\n",
    "    plt.show()\n",
    "\n",
    "# Perform K-S Test\n",
    "def perform_ks_test(data, mu, sigma):\n",
    "    ks_stat, p_value = kstest(data, 'norm', args=(mu, sigma))\n",
    "    print(f\"K-S Statistic: {ks_stat}\")\n",
    "    print(f\"P-Value: {p_value}\")\n",
    "    if p_value > 0.05:\n",
    "        print(\"The data fits the normal distribution (fail to reject H0).\")\n",
    "    else:\n",
    "        print(\"The data does not fit the normal distribution (reject H0).\")\n",
    "\n",
    "# Call the functions\n",
    "plot_qq(quantEst_values_series, mu_mle, sigma_mle)  # Adjust input data as needed\n",
    "perform_ks_test(quantEst_values_series, mu_mle, sigma_mle)\n"
   ]
  },
  {
   "cell_type": "markdown",
   "metadata": {},
   "source": [
    "#### MLE, Censored, log normal distribution"
   ]
  },
  {
   "cell_type": "code",
   "execution_count": 257,
   "metadata": {},
   "outputs": [
    {
     "name": "stdout",
     "output_type": "stream",
     "text": [
      "Fitted Parameters for Log-Normal Distribution:\n",
      "Mean (Original Scale): 2.5133186647154964\n",
      "Median (Original Scale): 2.313360400942728\n",
      "Standard Deviation (Original Scale): 1.0673286056183031\n"
     ]
    }
   ],
   "source": [
    "from scipy.stats import lognorm\n",
    "from scipy.optimize import minimize\n",
    "import numpy as np\n",
    "\n",
    "# Observed data\n",
    "detected_values = quantEst_values_series[detected_mask]\n",
    "non_detect_values = location_compound_data['MDL'][~detected_mask]\n",
    "\n",
    "# Define the negative log-likelihood function for censored data\n",
    "def neg_log_likelihood(params):\n",
    "    mu, sigma = params\n",
    "    if sigma <= 0:  # Standard deviation must be positive\n",
    "        return np.inf\n",
    "    \n",
    "    # Likelihood for detected values (PDF of log-normal distribution)\n",
    "    log_likelihood_detected = np.sum(lognorm.logpdf(detected_values, s=sigma, scale=np.exp(mu)))\n",
    "    \n",
    "    # Likelihood for censored values (CDF of log-normal distribution)\n",
    "    log_likelihood_non_detect = np.sum(np.log(lognorm.cdf(non_detect_values, s=sigma, scale=np.exp(mu))))\n",
    "    \n",
    "    # Total negative log-likelihood\n",
    "    return -(log_likelihood_detected + log_likelihood_non_detect)\n",
    "\n",
    "# Initial guesses for mu and sigma\n",
    "log_detected_values = np.log(detected_values)\n",
    "initial_guess = [np.mean(log_detected_values), np.std(log_detected_values)]\n",
    "\n",
    "# Optimize the negative log-likelihood\n",
    "result = minimize(neg_log_likelihood, initial_guess, method='L-BFGS-B', bounds=[(None, None), (1e-6, None)])\n",
    "\n",
    "# Extract fitted parameters\n",
    "mu_mle, sigma_mle = result.x\n",
    "\n",
    "# Convert parameters to the original scale\n",
    "median_mle = np.exp(mu_mle)  # Median for a log-normal distribution is exp(mu)\n",
    "mean_mle = np.exp(mu_mle + (sigma_mle**2) / 2)  # Mean for a log-normal distribution\n",
    "std_mle = np.sqrt((np.exp(sigma_mle**2) - 1) * np.exp(2 * mu_mle + sigma_mle**2))  # Standard deviation\n",
    "\n",
    "# Print the results\n",
    "print(\"Fitted Parameters for Log-Normal Distribution:\")\n",
    "print(\"Mean (Original Scale):\", mean_mle)\n",
    "print(\"Median (Original Scale):\", median_mle)\n",
    "print(\"Standard Deviation (Original Scale):\", std_mle)\n"
   ]
  },
  {
   "cell_type": "code",
   "execution_count": 258,
   "metadata": {},
   "outputs": [
    {
     "data": {
      "image/png": "[encoded data removed]",
      "text/plain": [
       "<Figure size 576x432 with 1 Axes>"
      ]
     },
     "metadata": {
      "needs_background": "light"
     },
     "output_type": "display_data"
    },
    {
     "name": "stdout",
     "output_type": "stream",
     "text": [
      "K-S Statistic: 0.6666666666666666\n",
      "P-Value: 4.295946720937011e-07\n",
      "The data does not fit the log-normal distribution (reject H0).\n"
     ]
    }
   ],
   "source": [
    "import matplotlib.pyplot as plt\n",
    "from scipy.stats import kstest\n",
    "\n",
    "# Q-Q Plot for Log-Normal Distribution\n",
    "def plot_qq_lognormal(data, mu, sigma):\n",
    "    sorted_data = np.sort(data)\n",
    "    theoretical_quantiles = lognorm.ppf(np.linspace(0.01, 0.99, len(sorted_data)), s=sigma, scale=np.exp(mu))\n",
    "    plt.figure(figsize=(8, 6))\n",
    "    plt.scatter(theoretical_quantiles, sorted_data, label=\"Data vs. Log-Normal\", alpha=0.6)\n",
    "    plt.plot(theoretical_quantiles, theoretical_quantiles, color='red', linestyle='--', label=\"Reference Line\")\n",
    "    plt.xlabel(\"Theoretical Quantiles\")\n",
    "    plt.ylabel(\"Sample Quantiles\")\n",
    "    plt.title(\"Q-Q Plot (Log-Normal Distribution)\")\n",
    "    plt.legend()\n",
    "    plt.grid()\n",
    "    plt.show()\n",
    "\n",
    "# Perform K-S Test for Log-Normal Distribution\n",
    "def perform_ks_test_lognormal(data, mu, sigma):\n",
    "    ks_stat, p_value = kstest(data, 'lognorm', args=(sigma, 0, np.exp(mu)))\n",
    "    print(f\"K-S Statistic: {ks_stat}\")\n",
    "    print(f\"P-Value: {p_value}\")\n",
    "    if p_value > 0.05:\n",
    "        print(\"The data fits the log-normal distribution (fail to reject H0).\")\n",
    "    else:\n",
    "        print(\"The data does not fit the log-normal distribution (reject H0).\")\n",
    "\n",
    "# Call the functions\n",
    "plot_qq_lognormal(quantEst_values_series, mu_mle, sigma_mle)\n",
    "perform_ks_test_lognormal(quantEst_values_series, mu_mle, sigma_mle)\n"
   ]
  },
  {
   "cell_type": "markdown",
   "metadata": {},
   "source": [
    "### Kaplan-Meier"
   ]
  },
  {
   "cell_type": "markdown",
   "metadata": {},
   "source": [
    "#### Case 1"
   ]
  },
  {
   "cell_type": "code",
   "execution_count": 35,
   "metadata": {},
   "outputs": [
    {
     "data": {
      "image/png": "[encoded data removed]",
      "text/plain": [
       "<Figure size 432x288 with 1 Axes>"
      ]
     },
     "metadata": {
      "needs_background": "light"
     },
     "output_type": "display_data"
    },
    {
     "name": "stdout",
     "output_type": "stream",
     "text": [
      "Estimated Median Concentration: 6.3\n",
      "Summary Statistics of Survival Function:\n",
      "        KM_estimate\n",
      "count    10.000000\n",
      "mean      0.538462\n",
      "std       0.301214\n",
      "min       0.153846\n",
      "25%       0.326923\n",
      "50%       0.500000\n",
      "75%       0.750000\n",
      "max       1.000000\n"
     ]
    }
   ],
   "source": [
    "from lifelines import KaplanMeierFitter\n",
    "#Case 1\n",
    "data = quantEst_values_series.copy()\n",
    "censored =~detected_mask\n",
    "\n",
    "detection_limit = 20\n",
    "data[censored] = detection_limit\n",
    "\n",
    "# Create Kaplan-Meier object\n",
    "kmf = KaplanMeierFitter()\n",
    "from lifelines import KaplanMeierFitter\n",
    "import matplotlib.pyplot as plt\n",
    "\n",
    "# Assuming `data` is your series of PFAS concentrations\n",
    "# `censored` is a boolean series where True indicates the data point is censored (non-detect)\n",
    "\n",
    "# Create Kaplan-Meier object\n",
    "kmf = KaplanMeierFitter()\n",
    "\n",
    "# Fit KM model\n",
    "# The `event_observed` parameter is True if the event (detection above MDL) is observed; hence, `~censored`\n",
    "kmf.fit(durations=data, event_observed=~censored)\n",
    "\n",
    "# Plot the survival function\n",
    "kmf.plot_survival_function()\n",
    "plt.title('Kaplan-Meier Survival Curve for PFAS Concentration')\n",
    "plt.xlabel('Concentration (ng/L)')\n",
    "plt.ylabel('Survival Probability (not exceeding concentration)')\n",
    "plt.grid(True)\n",
    "plt.show()\n",
    "\n",
    "\n",
    "# Fit KM model\n",
    "kmf.fit(data, ~censored)  # `~censored` because lifelines treats True as \"event occurred\"\n",
    "\n",
    "# Estimate the mean and variance from the survival function\n",
    "# Lifelines doesn't directly give mean/variance for KM, but we can approximate or use their utility functions\n",
    "mean_survival_time = kmf.median_survival_time_\n",
    "summary_stats = kmf.survival_function_.describe()\n",
    "\n",
    "print(\"Estimated Median Concentration:\", mean_survival_time)\n",
    "print(\"Summary Statistics of Survival Function:\\n\", summary_stats)"
   ]
  },
  {
   "cell_type": "code",
   "execution_count": 36,
   "metadata": {},
   "outputs": [
    {
     "name": "stdout",
     "output_type": "stream",
     "text": [
      "Bootstrap Mean Survival Time: 20.62803076923077\n",
      "Standard Deviation of Bootstrap Estimates: 4.835769822782606\n"
     ]
    }
   ],
   "source": [
    "# Function to perform bootstrap and estimate the mean survival time\n",
    "def bootstrap_mean_survival_time(data, censored, iterations=1000):\n",
    "    n = len(data)\n",
    "    means = []\n",
    "    \n",
    "    for _ in range(iterations):\n",
    "        # Sample with replacement\n",
    "        indices = np.random.choice(n, n, replace=True)\n",
    "        sample = data.iloc[indices]\n",
    "        sample_censored = censored.iloc[indices]\n",
    "        \n",
    "        # Fit KM model\n",
    "        kmf = KaplanMeierFitter()\n",
    "        kmf.fit(sample, event_observed=~sample_censored)\n",
    "        \n",
    "        # Extract the survival function\n",
    "        survival_function = kmf.survival_function_\n",
    "        \n",
    "        # Estimate mean survival time - approximate by summing the survival probabilities\n",
    "        mean_time = (survival_function.index * survival_function['KM_estimate']).sum()\n",
    "        means.append(mean_time)\n",
    "    \n",
    "    return np.mean(means), np.std(means)\n",
    "\n",
    "# Call the bootstrap function\n",
    "mean_estimate, std_estimate = bootstrap_mean_survival_time(data, censored)\n",
    "print(\"Bootstrap Mean Survival Time:\", mean_estimate)\n",
    "print(\"Standard Deviation of Bootstrap Estimates:\", std_estimate)\n"
   ]
  },
  {
   "cell_type": "markdown",
   "metadata": {},
   "source": [
    "#### Case 2"
   ]
  },
  {
   "cell_type": "code",
   "execution_count": 84,
   "metadata": {},
   "outputs": [
    {
     "name": "stdout",
     "output_type": "stream",
     "text": [
      "Estimated Median Concentration: inf\n",
      "Summary Statistics of Survival Function:\n",
      "        KM_estimate\n",
      "count     9.000000\n",
      "mean      0.788889\n",
      "std       0.135974\n",
      "min       0.540000\n",
      "25%       0.720000\n",
      "50%       0.800000\n",
      "75%       0.866667\n",
      "max       1.000000\n"
     ]
    }
   ],
   "source": [
    "from lifelines import KaplanMeierFitter\n",
    "\n",
    "data = quantEst_values_series.copy()\n",
    "censored =~detected_mask\n",
    "data[censored] = location_compound_data['MDL'][censored]\n",
    "\n",
    "# Create Kaplan-Meier object\n",
    "kmf = KaplanMeierFitter()\n",
    "\n",
    "# Fit KM model\n",
    "kmf.fit(data, ~censored)  # `~censored` because lifelines treats True as \"event occurred\"\n",
    "\n",
    "# Estimate the mean and variance from the survival function\n",
    "# Lifelines doesn't directly give mean/variance for KM, but we can approximate or use their utility functions\n",
    "mean_survival_time = kmf.median_survival_time_\n",
    "summary_stats = kmf.survival_function_.describe()\n",
    "\n",
    "print(\"Estimated Median Concentration:\", mean_survival_time)\n",
    "print(\"Summary Statistics of Survival Function:\\n\", summary_stats)"
   ]
  },
  {
   "cell_type": "code",
   "execution_count": 85,
   "metadata": {},
   "outputs": [
    {
     "data": {
      "image/png": "[encoded data removed]",
      "text/plain": [
       "<Figure size 720x432 with 1 Axes>"
      ]
     },
     "metadata": {
      "needs_background": "light"
     },
     "output_type": "display_data"
    },
    {
     "data": {
      "image/png": "[encoded data removed]",
      "text/plain": [
       "<Figure size 432x288 with 1 Axes>"
      ]
     },
     "metadata": {
      "needs_background": "light"
     },
     "output_type": "display_data"
    }
   ],
   "source": [
    "import matplotlib.pyplot as plt\n",
    "\n",
    "# Plot histogram of detected values and mark the detection limits\n",
    "plt.figure(figsize=(10, 6))\n",
    "plt.hist(data[~censored], bins=30, alpha=0.75, label='Detected Values')\n",
    "plt.hist(data[censored], bins=30, alpha=0.75, color='red', label='Censored Values')\n",
    "plt.axhline(y=0.5, color='r', linestyle='--', label='50% Survival Threshold')\n",
    "plt.xlabel('Concentration (ng/L)')\n",
    "plt.ylabel('Frequency')\n",
    "plt.title('Histogram of PFAS Concentrations')\n",
    "plt.legend()\n",
    "plt.show()\n",
    "\n",
    "# Plot the Kaplan-Meier survival curve\n",
    "kmf.plot_survival_function()\n",
    "plt.title('Survival Function of PFAS Concentrations')\n",
    "plt.xlabel('Concentration (ng/L)')\n",
    "plt.ylabel('Survival Probability')\n",
    "plt.show()\n"
   ]
  },
  {
   "cell_type": "markdown",
   "metadata": {},
   "source": [
    "#### Case 3"
   ]
  },
  {
   "cell_type": "code",
   "execution_count": 136,
   "metadata": {},
   "outputs": [
    {
     "name": "stdout",
     "output_type": "stream",
     "text": [
      "Estimated Median Concentration: 8.4\n",
      "Summary Statistics of Survival Function:\n",
      "        KM_estimate\n",
      "count    15.000000\n",
      "mean      0.568241\n",
      "std       0.298695\n",
      "min       0.000000\n",
      "25%       0.361111\n",
      "50%       0.577778\n",
      "75%       0.830556\n",
      "max       1.000000\n"
     ]
    }
   ],
   "source": [
    "from lifelines import KaplanMeierFitter\n",
    "\n",
    "data = quantEst_values_series.copy()\n",
    "censored =~detected_mask\n",
    "data[censored] = location_compound_data['MDL'][censored]\n",
    "\n",
    "# Create Kaplan-Meier object\n",
    "kmf = KaplanMeierFitter()\n",
    "\n",
    "# Fit KM model\n",
    "kmf.fit(data, ~censored)  # `~censored` because lifelines treats True as \"event occurred\"\n",
    "\n",
    "# Estimate the mean and variance from the survival function\n",
    "# Lifelines doesn't directly give mean/variance for KM, but we can approximate or use their utility functions\n",
    "mean_survival_time = kmf.median_survival_time_\n",
    "summary_stats = kmf.survival_function_.describe()\n",
    "\n",
    "print(\"Estimated Median Concentration:\", mean_survival_time)\n",
    "print(\"Summary Statistics of Survival Function:\\n\", summary_stats)"
   ]
  },
  {
   "cell_type": "code",
   "execution_count": 139,
   "metadata": {},
   "outputs": [
    {
     "data": {
      "text/plain": [
       "500       8.1\n",
       "1044      7.7\n",
       "1760      8.4\n",
       "2804     13.0\n",
       "3272     10.0\n",
       "4532      9.8\n",
       "4928      0.0\n",
       "7124      4.6\n",
       "10979     8.5\n",
       "14014     5.7\n",
       "15981     0.0\n",
       "21905     0.0\n",
       "23691     7.1\n",
       "23729     1.8\n",
       "27867     5.8\n",
       "Name: Quant Incl Estimates Incl Qual Flags, dtype: float64"
      ]
     },
     "execution_count": 139,
     "metadata": {},
     "output_type": "execute_result"
    }
   ],
   "source": [
    "quantEst_values_series\n"
   ]
  },
  {
   "cell_type": "code",
   "execution_count": 140,
   "metadata": {},
   "outputs": [
    {
     "data": {
      "text/plain": [
       "4928      4.9\n",
       "15981     9.0\n",
       "21905    10.0\n",
       "Name: MDL, dtype: float64"
      ]
     },
     "execution_count": 140,
     "metadata": {},
     "output_type": "execute_result"
    }
   ],
   "source": [
    "location_compound_data['MDL'][censored]"
   ]
  },
  {
   "cell_type": "code",
   "execution_count": 87,
   "metadata": {},
   "outputs": [
    {
     "data": {
      "image/png": "[encoded data removed]",
      "text/plain": [
       "<Figure size 720x432 with 1 Axes>"
      ]
     },
     "metadata": {
      "needs_background": "light"
     },
     "output_type": "display_data"
    },
    {
     "data": {
      "image/png": "[encoded data removed]",
      "text/plain": [
       "<Figure size 432x288 with 1 Axes>"
      ]
     },
     "metadata": {
      "needs_background": "light"
     },
     "output_type": "display_data"
    }
   ],
   "source": [
    "import matplotlib.pyplot as plt\n",
    "\n",
    "# Plot histogram of detected values and mark the detection limits\n",
    "plt.figure(figsize=(10, 6))\n",
    "plt.hist(data[~censored], bins=5, alpha=0.75, label='Detected Values')\n",
    "plt.hist(data[censored], bins=5, alpha=0.75, color='red', label='Censored Values')\n",
    "plt.axhline(y=0.5, color='r', linestyle='--', label='50% Survival Threshold')\n",
    "plt.xlabel('Concentration (ng/L)')\n",
    "plt.ylabel('Frequency')\n",
    "plt.title('Histogram of PFAS Concentrations')\n",
    "plt.legend()\n",
    "plt.show()\n",
    "\n",
    "# Plot the Kaplan-Meier survival curve\n",
    "kmf.plot_survival_function()\n",
    "plt.title('Survival Function of PFAS Concentrations')\n",
    "plt.xlabel('Concentration (ng/L)')\n",
    "plt.ylabel('Survival Probability')\n",
    "plt.show()\n"
   ]
  },
  {
   "cell_type": "code",
   "execution_count": 88,
   "metadata": {},
   "outputs": [
    {
     "data": {
      "image/png": "[encoded data removed]",
      "text/plain": [
       "<Figure size 720x504 with 1 Axes>"
      ]
     },
     "metadata": {
      "needs_background": "light"
     },
     "output_type": "display_data"
    }
   ],
   "source": [
    "data = [5.61,6.63,4.42,7.15,6.76,6.63,5.61,6.62,7.14,6.3]\n",
    "\n",
    "fig = plt.figure(figsize =(10, 7))\n",
    "\n",
    "# Creating plot\n",
    "plt.boxplot(data)\n",
    "\n",
    "# show plot\n",
    "plt.show()"
   ]
  },
  {
   "cell_type": "code",
   "execution_count": null,
   "metadata": {},
   "outputs": [],
   "source": []
  }
 ],
 "metadata": {
  "kernelspec": {
   "display_name": "base",
   "language": "python",
   "name": "python3"
  },
  "language_info": {
   "codemirror_mode": {
    "name": "ipython",
    "version": 3
   },
   "file_extension": ".py",
   "mimetype": "text/x-python",
   "name": "python",
   "nbconvert_exporter": "python",
   "pygments_lexer": "ipython3",
   "version": "3.9.21"
  }
 },
 "nbformat": 4,
 "nbformat_minor": 2
}
